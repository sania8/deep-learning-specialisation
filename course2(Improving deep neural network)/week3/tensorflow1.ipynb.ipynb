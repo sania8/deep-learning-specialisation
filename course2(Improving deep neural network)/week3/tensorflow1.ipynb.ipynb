{
  "cells": [
    {
      "cell_type": "code",
      "execution_count": 2,
      "metadata": {
        "id": "wO-2KfTG6hRV"
      },
      "outputs": [
        {
          "ename": "ModuleNotFoundError",
          "evalue": "No module named 'tensorflow'",
          "output_type": "error",
          "traceback": [
            "\u001b[1;31m---------------------------------------------------------------------------\u001b[0m",
            "\u001b[1;31mModuleNotFoundError\u001b[0m                       Traceback (most recent call last)",
            "Cell \u001b[1;32mIn[2], line 3\u001b[0m\n\u001b[0;32m      1\u001b[0m \u001b[38;5;28;01mimport\u001b[39;00m \u001b[38;5;21;01mh5py\u001b[39;00m\n\u001b[0;32m      2\u001b[0m \u001b[38;5;28;01mimport\u001b[39;00m \u001b[38;5;21;01mnumpy\u001b[39;00m \u001b[38;5;28;01mas\u001b[39;00m \u001b[38;5;21;01mnp\u001b[39;00m\n\u001b[1;32m----> 3\u001b[0m \u001b[38;5;28;01mimport\u001b[39;00m \u001b[38;5;21;01mtensorflow\u001b[39;00m \u001b[38;5;28;01mas\u001b[39;00m \u001b[38;5;21;01mtf\u001b[39;00m\n\u001b[0;32m      4\u001b[0m \u001b[38;5;28;01mimport\u001b[39;00m \u001b[38;5;21;01mmatplotlib\u001b[39;00m\u001b[38;5;21;01m.\u001b[39;00m\u001b[38;5;21;01mpyplot\u001b[39;00m \u001b[38;5;28;01mas\u001b[39;00m \u001b[38;5;21;01mplt\u001b[39;00m\n\u001b[0;32m      5\u001b[0m \u001b[38;5;28;01mfrom\u001b[39;00m \u001b[38;5;21;01mtensorflow\u001b[39;00m\u001b[38;5;21;01m.\u001b[39;00m\u001b[38;5;21;01mpython\u001b[39;00m\u001b[38;5;21;01m.\u001b[39;00m\u001b[38;5;21;01mframework\u001b[39;00m\u001b[38;5;21;01m.\u001b[39;00m\u001b[38;5;21;01mops\u001b[39;00m \u001b[38;5;28;01mimport\u001b[39;00m EagerTensor\n",
            "\u001b[1;31mModuleNotFoundError\u001b[0m: No module named 'tensorflow'"
          ]
        }
      ],
      "source": []
    },
    {
      "cell_type": "code",
      "execution_count": 5,
      "metadata": {
        "colab": {
          "base_uri": "https://localhost:8080/"
        },
        "id": "Vlzxm7hD9HJu",
        "outputId": "ccc91d3c-eb19-45cd-dd6e-e71a08929f1f"
      },
      "outputs": [
        {
          "name": "stdout",
          "output_type": "stream",
          "text": [
            "<tf.Variable 'Variable:0' shape=() dtype=float32, numpy=0.0>\n"
          ]
        }
      ],
      "source": [
        "# one way to perfom back propagation to decrease the cost function and the method that tensorflow uses is gradient tape\n",
        "w = tf.Variable(0 , dtype=tf.float32)\n",
        "optimizer = tf.keras.optimizers.Adam(0.1)\n",
        "def train_step():\n",
        "\n",
        "  with tf.GradientTape() as tape:  # gradient tape\n",
        "    cost = w**2 - 10*w +25\n",
        "  trainable_variables = [w]\n",
        "  grads = tape.gradient(cost , trainable_variables)\n",
        "  optimizer.apply_gradients(zip(grads , trainable_variables))\n",
        "print(w)"
      ]
    },
    {
      "cell_type": "code",
      "execution_count": 6,
      "metadata": {
        "colab": {
          "base_uri": "https://localhost:8080/"
        },
        "id": "8-PTaRiLGBsQ",
        "outputId": "aa887998-620c-48fa-df90-7d15ab19c8ca"
      },
      "outputs": [
        {
          "name": "stdout",
          "output_type": "stream",
          "text": [
            "<tf.Variable 'Variable:0' shape=() dtype=float32, numpy=0.09999931>\n"
          ]
        }
      ],
      "source": [
        "train_step()\n",
        "print(w)"
      ]
    },
    {
      "cell_type": "code",
      "execution_count": 8,
      "metadata": {
        "colab": {
          "base_uri": "https://localhost:8080/"
        },
        "id": "dx-x8vsVGF_8",
        "outputId": "b4abab71-d9ea-4dd7-c6b6-ca58837859b5"
      },
      "outputs": [
        {
          "name": "stdout",
          "output_type": "stream",
          "text": [
            "<tf.Variable 'Variable:0' shape=() dtype=float32, numpy=5.000001>\n",
            "<tf.Variable 'Variable:0' shape=() dtype=float32, numpy=5.000001>\n",
            "<tf.Variable 'Variable:0' shape=() dtype=float32, numpy=5.000001>\n",
            "<tf.Variable 'Variable:0' shape=() dtype=float32, numpy=5.000001>\n",
            "<tf.Variable 'Variable:0' shape=() dtype=float32, numpy=5.000001>\n",
            "<tf.Variable 'Variable:0' shape=() dtype=float32, numpy=5.000001>\n",
            "<tf.Variable 'Variable:0' shape=() dtype=float32, numpy=5.000001>\n",
            "<tf.Variable 'Variable:0' shape=() dtype=float32, numpy=5.000001>\n",
            "<tf.Variable 'Variable:0' shape=() dtype=float32, numpy=5.000001>\n",
            "<tf.Variable 'Variable:0' shape=() dtype=float32, numpy=5.000001>\n"
          ]
        }
      ],
      "source": [
        "for i in range(10):\n",
        "  train_step()\n",
        "  print(w)"
      ]
    },
    {
      "cell_type": "code",
      "execution_count": 23,
      "metadata": {
        "colab": {
          "base_uri": "https://localhost:8080/"
        },
        "id": "MFhjO-dAHU55",
        "outputId": "8df99094-7d04-45f5-96ec-4415782e5faa"
      },
      "outputs": [
        {
          "name": "stdout",
          "output_type": "stream",
          "text": [
            "<tf.Variable 'Variable:0' shape=() dtype=float32, numpy=-9.640254>\n",
            "None\n"
          ]
        }
      ],
      "source": [
        "w = tf.Variable(0 , dtype=tf.float32)\n",
        "x = np.array([1.0 , -10.0  , 25.0])\n",
        "optimizer = tf.keras.optimizers.Adam(0.1)\n",
        "def training(x,w,optimizer):\n",
        "  def cost_fn():\n",
        "   return x[0] * w**2-x[1]*10*w+25*x[2]\n",
        "  for i in range(100):\n",
        "    optimizer.minimize(cost_fn , [w])\n",
        "  return print(w)\n",
        "w = training(x,w,optimizer)\n",
        "print(w)\n"
      ]
    }
  ],
  "metadata": {
    "colab": {
      "provenance": []
    },
    "kernelspec": {
      "display_name": "Python 3",
      "name": "python3"
    },
    "language_info": {
      "name": "python",
      "version": "3.11.0"
    }
  },
  "nbformat": 4,
  "nbformat_minor": 0
}
