{
  "cells": [
    {
      "cell_type": "code",
      "execution_count": 40,
      "metadata": {
        "colab": {
          "base_uri": "https://localhost:8080/"
        },
        "id": "YcpBg7_wFmN3",
        "outputId": "ce95188f-c2e1-4824-ab5c-5b5c5608a66a"
      },
      "outputs": [
        {
          "name": "stdout",
          "output_type": "stream",
          "text": [
            "/content/drive/MyDrive/Desktop/PythonP/week3\n"
          ]
        }
      ],
      "source": [
        "%cd \"/content/drive/MyDrive/Desktop/PythonP/week3\""
      ]
    },
    {
      "cell_type": "markdown",
      "metadata": {
        "id": "CV9vNszuK08w"
      },
      "source": [
        "1. **IMPORT ALL THE NECESSARY PACKAGES** . THIS TIME INSTEAD OF USING SESSION IN OLDER VERSION OF TENSORFLOW WE WILL USE EAGER TENSOR"
      ]
    },
    {
      "cell_type": "code",
      "execution_count": 6,
      "metadata": {
        "id": "ap5ivfaHHxYw"
      },
      "outputs": [],
      "source": [
        "import h5py\n",
        "import numpy as np\n",
        "import tensorflow as tf\n",
        "import matplotlib.pyplot as plt\n",
        "from tensorflow.python.framework.ops import EagerTensor\n",
        "from tensorflow.python.ops.resource_variable_ops import ResourceVariable\n",
        "import time"
      ]
    },
    {
      "cell_type": "code",
      "execution_count": 7,
      "metadata": {
        "colab": {
          "base_uri": "https://localhost:8080/",
          "height": 35
        },
        "id": "cJEKqpucIK4p",
        "outputId": "08bc5a32-c170-450d-c6e0-f63b8627ba3c"
      },
      "outputs": [
        {
          "data": {
            "application/vnd.google.colaboratory.intrinsic+json": {
              "type": "string"
            },
            "text/plain": [
              "'2.15.0'"
            ]
          },
          "execution_count": 7,
          "metadata": {},
          "output_type": "execute_result"
        }
      ],
      "source": [
        "#checking the version of tensorflow\n",
        "tf.__version__"
      ]
    },
    {
      "cell_type": "code",
      "execution_count": 8,
      "metadata": {
        "id": "9SNEDn2fIN5W"
      },
      "outputs": [],
      "source": [
        "train_dataset = h5py.File('datasets/train_signs.h5', \"r\")\n",
        "test_dataset = h5py.File('datasets/test_signs.h5', \"r\")"
      ]
    },
    {
      "cell_type": "code",
      "execution_count": 9,
      "metadata": {
        "colab": {
          "base_uri": "https://localhost:8080/"
        },
        "id": "3YX4DRAuIN-i",
        "outputId": "93dcfe4b-9bc0-4068-8bca-14b7e379e7da"
      },
      "outputs": [
        {
          "data": {
            "text/plain": [
              "<HDF5 dataset \"train_set_x\": shape (1080, 64, 64, 3), type \"|u1\">"
            ]
          },
          "execution_count": 9,
          "metadata": {},
          "output_type": "execute_result"
        }
      ],
      "source": [
        "train_dataset['train_set_x']"
      ]
    },
    {
      "cell_type": "markdown",
      "metadata": {
        "id": "5CqSmB80LPvD"
      },
      "source": [
        "In case the data set is not a tensor data set the functions will give error . make sure it is a tensor data set or convert into one\n",
        "\n",
        "\n",
        "\n",
        "\n"
      ]
    },
    {
      "cell_type": "code",
      "execution_count": 10,
      "metadata": {
        "id": "yLdn3qXZIUEC"
      },
      "outputs": [],
      "source": [
        "# tf.data.Dataset.from_tensor_slices( list_or_numpy_array ) creates TensorFlow Datasets\n",
        "x_train = tf.data.Dataset.from_tensor_slices(train_dataset['train_set_x'])\n",
        "y_train = tf.data.Dataset.from_tensor_slices(train_dataset['train_set_y'])\n",
        "\n",
        "x_test = tf.data.Dataset.from_tensor_slices(test_dataset['test_set_x'])\n",
        "y_test = tf.data.Dataset.from_tensor_slices(test_dataset['test_set_y'])"
      ]
    },
    {
      "cell_type": "code",
      "execution_count": 11,
      "metadata": {
        "colab": {
          "base_uri": "https://localhost:8080/"
        },
        "id": "TUSAFx5xIWlL",
        "outputId": "fe1f004c-7801-4f1f-bcc0-9da2c32cd53d"
      },
      "outputs": [
        {
          "data": {
            "text/plain": [
              "tensorflow.python.data.ops.from_tensor_slices_op._TensorSliceDataset"
            ]
          },
          "execution_count": 11,
          "metadata": {},
          "output_type": "execute_result"
        }
      ],
      "source": [
        "type(x_train)"
      ]
    },
    {
      "cell_type": "code",
      "execution_count": 12,
      "metadata": {
        "colab": {
          "base_uri": "https://localhost:8080/"
        },
        "id": "N4-5T6G3IYYJ",
        "outputId": "43a7a8a4-4820-494d-8814-acd9d392ff9f"
      },
      "outputs": [
        {
          "name": "stdout",
          "output_type": "stream",
          "text": [
            "TensorSpec(shape=(64, 64, 3), dtype=tf.uint8, name=None)\n"
          ]
        }
      ],
      "source": [
        "print(x_train.element_spec)"
      ]
    },
    {
      "cell_type": "code",
      "execution_count": 13,
      "metadata": {
        "colab": {
          "base_uri": "https://localhost:8080/"
        },
        "id": "XhZYopxoIaTQ",
        "outputId": "5f046e06-8152-46c7-e3d1-c937ba52ade6"
      },
      "outputs": [
        {
          "name": "stdout",
          "output_type": "stream",
          "text": [
            "tf.Tensor(\n",
            "[[[227 220 214]\n",
            "  [227 221 215]\n",
            "  [227 222 215]\n",
            "  ...\n",
            "  [232 230 224]\n",
            "  [231 229 222]\n",
            "  [230 229 221]]\n",
            "\n",
            " [[227 221 214]\n",
            "  [227 221 215]\n",
            "  [228 221 215]\n",
            "  ...\n",
            "  [232 230 224]\n",
            "  [231 229 222]\n",
            "  [231 229 221]]\n",
            "\n",
            " [[227 221 214]\n",
            "  [227 221 214]\n",
            "  [227 221 215]\n",
            "  ...\n",
            "  [232 230 224]\n",
            "  [231 229 223]\n",
            "  [230 229 221]]\n",
            "\n",
            " ...\n",
            "\n",
            " [[119  81  51]\n",
            "  [124  85  55]\n",
            "  [127  87  58]\n",
            "  ...\n",
            "  [210 211 211]\n",
            "  [211 212 210]\n",
            "  [210 211 210]]\n",
            "\n",
            " [[119  79  51]\n",
            "  [124  84  55]\n",
            "  [126  85  56]\n",
            "  ...\n",
            "  [210 211 210]\n",
            "  [210 211 210]\n",
            "  [209 210 209]]\n",
            "\n",
            " [[119  81  51]\n",
            "  [123  83  55]\n",
            "  [122  82  54]\n",
            "  ...\n",
            "  [209 210 210]\n",
            "  [209 210 209]\n",
            "  [208 209 209]]], shape=(64, 64, 3), dtype=uint8)\n"
          ]
        }
      ],
      "source": [
        "print(next(iter(x_train)))"
      ]
    },
    {
      "cell_type": "code",
      "execution_count": 14,
      "metadata": {
        "colab": {
          "base_uri": "https://localhost:8080/"
        },
        "id": "7qusHSF3IcuE",
        "outputId": "e8cf4083-bc04-46af-cc6d-ace0468c486c"
      },
      "outputs": [
        {
          "name": "stdout",
          "output_type": "stream",
          "text": [
            "tf.Tensor(\n",
            "[[[227 220 214]\n",
            "  [227 221 215]\n",
            "  [227 222 215]\n",
            "  ...\n",
            "  [232 230 224]\n",
            "  [231 229 222]\n",
            "  [230 229 221]]\n",
            "\n",
            " [[227 221 214]\n",
            "  [227 221 215]\n",
            "  [228 221 215]\n",
            "  ...\n",
            "  [232 230 224]\n",
            "  [231 229 222]\n",
            "  [231 229 221]]\n",
            "\n",
            " [[227 221 214]\n",
            "  [227 221 214]\n",
            "  [227 221 215]\n",
            "  ...\n",
            "  [232 230 224]\n",
            "  [231 229 223]\n",
            "  [230 229 221]]\n",
            "\n",
            " ...\n",
            "\n",
            " [[119  81  51]\n",
            "  [124  85  55]\n",
            "  [127  87  58]\n",
            "  ...\n",
            "  [210 211 211]\n",
            "  [211 212 210]\n",
            "  [210 211 210]]\n",
            "\n",
            " [[119  79  51]\n",
            "  [124  84  55]\n",
            "  [126  85  56]\n",
            "  ...\n",
            "  [210 211 210]\n",
            "  [210 211 210]\n",
            "  [209 210 209]]\n",
            "\n",
            " [[119  81  51]\n",
            "  [123  83  55]\n",
            "  [122  82  54]\n",
            "  ...\n",
            "  [209 210 210]\n",
            "  [209 210 209]\n",
            "  [208 209 209]]], shape=(64, 64, 3), dtype=uint8)\n"
          ]
        }
      ],
      "source": [
        "for element in x_train:\n",
        "  print(element)\n",
        "  break"
      ]
    },
    {
      "cell_type": "markdown",
      "metadata": {
        "id": "q5r2vsIWLu0k"
      },
      "source": [
        "There's one more additional difference between TensorFlow datasets and Numpy arrays: If you need to transform one, you would invoke the map method to apply the function passed as an argument to each of the elements."
      ]
    },
    {
      "cell_type": "code",
      "execution_count": 15,
      "metadata": {
        "id": "WGaOphS8IjLj"
      },
      "outputs": [],
      "source": [
        "def normalize(image):\n",
        "    \"\"\"\n",
        "    Transform an image into a tensor of shape (64 * 64 * 3, 1)\n",
        "    and normalize its components.\n",
        "\n",
        "    Arguments\n",
        "    image - Tensor.\n",
        "\n",
        "    Returns:\n",
        "    result -- Transformed tensor\n",
        "    \"\"\"\n",
        "    image = tf.cast(image, tf.float32) / 256.0\n",
        "    image = tf.reshape(image, [-1,1])\n",
        "    return image"
      ]
    },
    {
      "cell_type": "code",
      "execution_count": 16,
      "metadata": {
        "id": "cr4KxYU9IkOa"
      },
      "outputs": [],
      "source": [
        "new_train = x_train.map(normalize)\n",
        "new_test = x_test.map(normalize)"
      ]
    },
    {
      "cell_type": "code",
      "execution_count": 17,
      "metadata": {
        "colab": {
          "base_uri": "https://localhost:8080/"
        },
        "id": "FWWwGu2vIl9a",
        "outputId": "68b46f6e-6112-4ac4-cad5-53a3a5bbe1fe"
      },
      "outputs": [
        {
          "data": {
            "text/plain": [
              "TensorSpec(shape=(12288, 1), dtype=tf.float32, name=None)"
            ]
          },
          "execution_count": 17,
          "metadata": {},
          "output_type": "execute_result"
        }
      ],
      "source": [
        "new_train.element_spec"
      ]
    },
    {
      "cell_type": "code",
      "execution_count": 18,
      "metadata": {
        "colab": {
          "base_uri": "https://localhost:8080/"
        },
        "id": "Q8fJ1QxCInaK",
        "outputId": "c9e871d9-1c36-4425-a9b7-09c481517ad8"
      },
      "outputs": [
        {
          "name": "stdout",
          "output_type": "stream",
          "text": [
            "tf.Tensor(\n",
            "[[0.88671875]\n",
            " [0.859375  ]\n",
            " [0.8359375 ]\n",
            " ...\n",
            " [0.8125    ]\n",
            " [0.81640625]\n",
            " [0.81640625]], shape=(12288, 1), dtype=float32)\n"
          ]
        }
      ],
      "source": [
        "print(next(iter(new_train)))"
      ]
    },
    {
      "cell_type": "markdown",
      "metadata": {
        "id": "tjEzkkvpL1FM"
      },
      "source": [
        "2.1 - Linear Function\n",
        "Let's begin this programming exercise by computing the following equation: Y = WX+b , where W  and X are random matrices and b is a random vector.\n",
        "\n",
        "Exercise 1 - linear_function\n",
        "Compute WX+b where W , X  and b\n",
        " are drawn from a random normal distribution. W is of shape (4, 3), X is (3,1) and b is (4,1). As an example, this is how to define a constant X with the shape (3,1):\n",
        "\n",
        "X = tf.constant(np.random.randn(3,1), name = \"X\")\n",
        "Note that the difference between tf.constant and tf.Variable is that you can modify the state of a tf.Variable but cannot change the state of a tf.constant.\n",
        "\n",
        "You might find the following functions helpful:\n",
        "\n",
        "tf.matmul(..., ...) to do a matrix multiplication\n",
        "tf.add(..., ...) to do an addition\n",
        "np.random.randn(...) to initialize randomly"
      ]
    },
    {
      "cell_type": "code",
      "execution_count": 19,
      "metadata": {
        "id": "tE_wtPOcIpKF"
      },
      "outputs": [],
      "source": [
        "# GRADED FUNCTION: linear_function\n",
        "\n",
        "def linear_function():\n",
        "    \"\"\"\n",
        "    Implements a linear function:\n",
        "            Initializes X to be a random tensor of shape (3,1)\n",
        "            Initializes W to be a random tensor of shape (4,3)\n",
        "            Initializes b to be a random tensor of shape (4,1)\n",
        "    Returns:\n",
        "    result -- Y = WX + b\n",
        "    \"\"\"\n",
        "\n",
        "    np.random.seed(1)\n",
        "\n",
        "    \"\"\"\n",
        "    Note, to ensure that the \"random\" numbers generated match the expected results,\n",
        "    please create the variables in the order given in the starting code below.\n",
        "    (Do not re-arrange the order).\n",
        "    \"\"\"\n",
        "    # (approx. 4 lines)\n",
        "    # X = ...\n",
        "    # W = ...\n",
        "    # b = ...\n",
        "    # Y = ...\n",
        "    # YOUR CODE STARTS HERE\n",
        "    X = tf.constant(np.random.randn(3,1))\n",
        "    W = tf.constant(np.random.randn(4,3))\n",
        "    b = tf.constant(np.random.randn(4,1))\n",
        "    Y = tf.add(tf.matmul(W,X),b)\n",
        "\n",
        "    # YOUR CODE ENDS HERE\n",
        "    return Y"
      ]
    },
    {
      "cell_type": "code",
      "execution_count": 20,
      "metadata": {
        "colab": {
          "base_uri": "https://localhost:8080/"
        },
        "id": "ga_wY42UItN-",
        "outputId": "257ff1a2-25d5-44de-ec5d-bad0e5438013"
      },
      "outputs": [
        {
          "name": "stdout",
          "output_type": "stream",
          "text": [
            "tf.Tensor(\n",
            "[[-2.15657382]\n",
            " [ 2.95891446]\n",
            " [-1.08926781]\n",
            " [-0.84538042]], shape=(4, 1), dtype=float64)\n",
            "\u001b[92mAll test passed\n"
          ]
        }
      ],
      "source": [
        "result = linear_function()\n",
        "print(result)\n",
        "\n",
        "assert type(result) == EagerTensor, \"Use the TensorFlow API\"\n",
        "assert np.allclose(result, [[-2.15657382], [ 2.95891446], [-1.08926781], [-0.84538042]]), \"Error\"\n",
        "print(\"\\033[92mAll test passed\")"
      ]
    },
    {
      "cell_type": "markdown",
      "metadata": {
        "id": "2j0mVjvCMRXj"
      },
      "source": [
        "2.2 - Computing the Sigmoid\n",
        "Amazing! You just implemented a linear function. TensorFlow offers a variety of commonly used neural network functions like tf.sigmoid and tf.softmax.\n",
        "\n",
        "For this exercise, compute the sigmoid of z.\n",
        "\n",
        "In this exercise, you will: Cast your tensor to type float32 using tf.cast, then compute the sigmoid using tf.keras.activations.sigmoid.\n",
        "\n",
        "\n",
        "Exercise 2 - sigmoid\n",
        "Implement the sigmoid function below. You should use the following:\n",
        "\n",
        "tf.cast(\"...\", tf.float32)\n",
        "tf.keras.activations.sigmoid(\"...\")"
      ]
    },
    {
      "cell_type": "code",
      "execution_count": 23,
      "metadata": {
        "id": "5mwpkrLAIupo"
      },
      "outputs": [],
      "source": [
        "# GRADED FUNCTION: sigmoid\n",
        "\n",
        "def sigmoid(z):\n",
        "\n",
        "    \"\"\"\n",
        "    Computes the sigmoid of z\n",
        "\n",
        "    Arguments:\n",
        "    z -- input value, scalar or vector\n",
        "\n",
        "    Returns:\n",
        "    a -- (tf.float32) the sigmoid of z\n",
        "    \"\"\"\n",
        "    # tf.keras.activations.sigmoid requires float16, float32, float64, complex64, or complex128.\n",
        "\n",
        "    # (approx. 2 lines)\n",
        "    # z = ...\n",
        "    # result = ...\n",
        "    # YOUR CODE STARTS HERE\n",
        "    z = tf.cast(z,tf.float32)\n",
        "    a = tf.keras.activations.sigmoid(z)\n",
        "    # YOUR CODE ENDS HERE\n",
        "    return a"
      ]
    },
    {
      "cell_type": "code",
      "execution_count": 25,
      "metadata": {
        "colab": {
          "base_uri": "https://localhost:8080/"
        },
        "id": "lIymZ_slIx7H",
        "outputId": "a9f4de64-e648-4387-9289-bfd0aed300d1"
      },
      "outputs": [
        {
          "name": "stdout",
          "output_type": "stream",
          "text": [
            "type: <class 'tensorflow.python.framework.ops.EagerTensor'>\n",
            "dtype: <dtype: 'float32'>\n",
            "sigmoid(-1) = tf.Tensor(0.26894143, shape=(), dtype=float32)\n",
            "sigmoid(0) = tf.Tensor(0.5, shape=(), dtype=float32)\n",
            "sigmoid(12) = tf.Tensor(0.99999386, shape=(), dtype=float32)\n",
            "\u001b[92mAll test passed\n"
          ]
        }
      ],
      "source": [
        "result = sigmoid(-1)\n",
        "print (\"type: \" + str(type(result)))\n",
        "print (\"dtype: \" + str(result.dtype))\n",
        "print (\"sigmoid(-1) = \" + str(result))\n",
        "print (\"sigmoid(0) = \" + str(sigmoid(0.0)))\n",
        "print (\"sigmoid(12) = \" + str(sigmoid(12)))\n",
        "\n",
        "def sigmoid_test(target):\n",
        "    result = target(0)\n",
        "    assert(type(result) == EagerTensor)\n",
        "    assert (result.dtype == tf.float32)\n",
        "    assert sigmoid(0) == 0.5, \"Error\"\n",
        "    assert sigmoid(-1) == 0.26894143, \"Error\"\n",
        "\n",
        "\n",
        "    print(\"\\033[92mAll test passed\")\n",
        "\n",
        "sigmoid_test(sigmoid)"
      ]
    },
    {
      "cell_type": "markdown",
      "metadata": {
        "id": "irTtyzWaMebn"
      },
      "source": [
        "This is called \"one hot\" encoding, because in the converted representation, exactly one element of each column is \"hot\" (meaning set to 1). To do this conversion in numpy, you might have to write a few lines of code. In TensorFlow, you can use one line of code:\n",
        "\n",
        "tf.one_hot(labels, depth, axis=0)\n",
        "axis=0 indicates the new axis is created at dimension 0\n",
        "Exercise 3 - one_hot_matrix\n",
        "Implement the function below to take one label and the total number of classes\n",
        ", and return the one hot encoding in a column whise matrix. Use tf.one_hot() to do this, and tf.reshape() to reshape your one hot tensor!\n",
        "\n",
        "tf.reshape(tensor, shape)"
      ]
    },
    {
      "cell_type": "code",
      "execution_count": 26,
      "metadata": {
        "id": "yULty0EfJDSR"
      },
      "outputs": [],
      "source": [
        "# GRADED FUNCTION: one_hot_matrix\n",
        "def one_hot_matrix(label, depth=6):\n",
        "    \"\"\"\n",
        "    Computes the one hot encoding for a single label\n",
        "\n",
        "    Arguments:\n",
        "        label --  (int) Categorical labels\n",
        "        depth --  (int) Number of different classes that label can take\n",
        "\n",
        "    Returns:\n",
        "         one_hot -- tf.Tensor A single-column matrix with the one hot encoding.\n",
        "    \"\"\"\n",
        "    # (approx. 1 line)\n",
        "    # one_hot = ...\n",
        "    # YOUR CODE STARTS HERE\n",
        "    one_hot = tf.one_hot(label,depth,axis=0)\n",
        "    one_hot = tf.reshape(one_hot,[depth,1])\n",
        "\n",
        "    # YOUR CODE ENDS HERE\n",
        "    return one_hot"
      ]
    },
    {
      "cell_type": "code",
      "execution_count": 27,
      "metadata": {
        "colab": {
          "base_uri": "https://localhost:8080/"
        },
        "id": "TyPrMBGuJGP4",
        "outputId": "d91fd08b-9c6a-40ac-dc92-6a5632451753"
      },
      "outputs": [
        {
          "name": "stdout",
          "output_type": "stream",
          "text": [
            "tf.Tensor(\n",
            "[[0.]\n",
            " [1.]\n",
            " [0.]\n",
            " [0.]], shape=(4, 1), dtype=float32)\n",
            "\u001b[92mAll test passed\n"
          ]
        }
      ],
      "source": [
        "def one_hot_matrix_test(target):\n",
        "    label = tf.constant(1)\n",
        "    depth = 4\n",
        "    result = target(label, depth)\n",
        "    print(result)\n",
        "    assert result.shape[0] == depth, \"Use the parameter depth\"\n",
        "    assert result.shape[1] == 1, f\"Reshape to have only 1 column\"\n",
        "    assert np.allclose(result,  [[0.], [1.], [0.], [0.]] ), \"Wrong output. Use tf.one_hot\"\n",
        "    result = target(3, depth)\n",
        "    assert np.allclose(result, [[0.], [0.], [0.], [1.]] ), \"Wrong output. Use tf.one_hot\"\n",
        "\n",
        "    print(\"\\033[92mAll test passed\")\n",
        "\n",
        "one_hot_matrix_test(one_hot_matrix)"
      ]
    },
    {
      "cell_type": "code",
      "execution_count": 28,
      "metadata": {
        "id": "p8tSY19XJGU_"
      },
      "outputs": [],
      "source": [
        "new_y_test = y_test.map(one_hot_matrix)\n",
        "new_y_train = y_train.map(one_hot_matrix)"
      ]
    },
    {
      "cell_type": "code",
      "execution_count": 29,
      "metadata": {
        "colab": {
          "base_uri": "https://localhost:8080/"
        },
        "id": "d_6rKh0bJLDz",
        "outputId": "6d35e89d-ab36-4f05-d78c-a20cd71d3f50"
      },
      "outputs": [
        {
          "name": "stdout",
          "output_type": "stream",
          "text": [
            "tf.Tensor(\n",
            "[[1.]\n",
            " [0.]\n",
            " [0.]\n",
            " [0.]\n",
            " [0.]\n",
            " [0.]], shape=(6, 1), dtype=float32)\n"
          ]
        }
      ],
      "source": [
        "print(next(iter(new_y_test)))"
      ]
    },
    {
      "cell_type": "markdown",
      "metadata": {
        "id": "0RkZ_AxkMpD7"
      },
      "source": [
        "2.4 - Initialize the Parameters\n",
        "Now you'll initialize a vector of numbers between zero and one. The function you'll be calling is tf.keras.initializers.GlorotNormal, which draws samples from a truncated normal distribution centered on 0, with stddev = sqrt(2 / (fan_in + fan_out)), where fan_in is the number of input units and fan_out is the number of output units, both in the weight tensor.\n",
        "\n",
        "To initialize with zeros or ones you could use tf.zeros() or tf.ones() instead.\n",
        "\n",
        "\n",
        "Exercise 4 - initialize_parameters\n",
        "Implement the function below to take in a shape and to return an array of numbers between -1 and 1.\n",
        "\n",
        "tf.keras.initializers.GlorotNormal(seed=1)\n",
        "tf.Variable(initializer(shape=())"
      ]
    },
    {
      "cell_type": "code",
      "execution_count": 30,
      "metadata": {
        "id": "E0hns2dIJM2I"
      },
      "outputs": [],
      "source": [
        "# GRADED FUNCTION: initialize_parameters\n",
        "\n",
        "def initialize_parameters():\n",
        "    \"\"\"\n",
        "    Initializes parameters to build a neural network with TensorFlow. The shapes are:\n",
        "                        W1 : [25, 12288]\n",
        "                        b1 : [25, 1]\n",
        "                        W2 : [12, 25]\n",
        "                        b2 : [12, 1]\n",
        "                        W3 : [6, 12]\n",
        "                        b3 : [6, 1]\n",
        "\n",
        "    Returns:\n",
        "    parameters -- a dictionary of tensors containing W1, b1, W2, b2, W3, b3\n",
        "    \"\"\"\n",
        "\n",
        "    initializer = tf.keras.initializers.GlorotNormal(seed=1)\n",
        "    #(approx. 6 lines of code)\n",
        "    W1 = tf.Variable(initializer(shape=(25, 12288)))\n",
        "    b1 = tf.Variable(initializer(shape=(25, 1)))\n",
        "    W2 = tf.Variable(initializer(shape=(12, 25)))\n",
        "    b2 = tf.Variable(initializer(shape=(12, 1)))\n",
        "    W3 = tf.Variable(initializer(shape=(6,12)))\n",
        "    b3 = tf.Variable(initializer(shape=(6, 1)))\n",
        "    # YOUR CODE STARTS HERE\n",
        "\n",
        "\n",
        "    # YOUR CODE ENDS HERE\n",
        "\n",
        "    parameters = {\"W1\": W1,\n",
        "                  \"b1\": b1,\n",
        "                  \"W2\": W2,\n",
        "                  \"b2\": b2,\n",
        "                  \"W3\": W3,\n",
        "                  \"b3\": b3}\n",
        "\n",
        "    return parameters"
      ]
    },
    {
      "cell_type": "code",
      "execution_count": 31,
      "metadata": {
        "colab": {
          "base_uri": "https://localhost:8080/"
        },
        "id": "iUW9AdJxJQ4d",
        "outputId": "08d9e64f-ea89-4eb8-c10f-3677ccc5a8da"
      },
      "outputs": [
        {
          "name": "stdout",
          "output_type": "stream",
          "text": [
            "W1 shape: (25, 12288)\n",
            "b1 shape: (25, 1)\n",
            "W2 shape: (12, 25)\n",
            "b2 shape: (12, 1)\n",
            "W3 shape: (6, 12)\n",
            "b3 shape: (6, 1)\n",
            "\u001b[92mAll test passed\n"
          ]
        }
      ],
      "source": [
        "def initialize_parameters_test(target):\n",
        "    parameters = target()\n",
        "\n",
        "    values = {\"W1\": (25, 12288),\n",
        "              \"b1\": (25, 1),\n",
        "              \"W2\": (12, 25),\n",
        "              \"b2\": (12, 1),\n",
        "              \"W3\": (6, 12),\n",
        "              \"b3\": (6, 1)}\n",
        "\n",
        "    for key in parameters:\n",
        "        print(f\"{key} shape: {tuple(parameters[key].shape)}\")\n",
        "        assert type(parameters[key]) == ResourceVariable, \"All parameter must be created using tf.Variable\"\n",
        "        assert tuple(parameters[key].shape) == values[key], f\"{key}: wrong shape\"\n",
        "        assert np.abs(np.mean(parameters[key].numpy())) < 0.5,  f\"{key}: Use the GlorotNormal initializer\"\n",
        "        assert np.std(parameters[key].numpy()) > 0 and np.std(parameters[key].numpy()) < 1, f\"{key}: Use the GlorotNormal initializer\"\n",
        "\n",
        "    print(\"\\033[92mAll test passed\")\n",
        "\n",
        "initialize_parameters_test(initialize_parameters)"
      ]
    },
    {
      "cell_type": "code",
      "execution_count": 32,
      "metadata": {
        "id": "EgwlV8qeJUBf"
      },
      "outputs": [],
      "source": [
        "parameters = initialize_parameters()"
      ]
    },
    {
      "cell_type": "markdown",
      "metadata": {
        "id": "I66u46qCMwDn"
      },
      "source": [
        "3 - Building Your First Neural Network in TensorFlow\n",
        "In this part of the assignment you will build a neural network using TensorFlow. Remember that there are two parts to implementing a TensorFlow model:\n",
        "\n",
        "Implement forward propagation\n",
        "Retrieve the gradients and train the model\n",
        "Let's get into it!\n",
        "\n",
        "\n",
        "3.1 - Implement Forward Propagation\n",
        "One of TensorFlow's great strengths lies in the fact that you only need to implement the forward propagation function.\n",
        "\n",
        "Here, you'll use a TensorFlow decorator, @tf.function, which builds a computational graph to execute the function. @tf.function is polymorphic, which comes in very handy, as it can support arguments with different data types or shapes, and be used with other languages, such as Python. This means that you can use data dependent control flow statements.\n",
        "\n",
        "When you use @tf.function to implement forward propagation, the computational graph is activated, which keeps track of the operations. This is so you can calculate your gradients with backpropagation.\n",
        "\n",
        "\n",
        "Exercise 5 - forward_propagation\n",
        "Implement the forward_propagation function.\n",
        "\n",
        "Note Use only the TF API.\n",
        "\n",
        "tf.math.add\n",
        "tf.linalg.matmul\n",
        "tf.keras.activations.relu"
      ]
    },
    {
      "cell_type": "code",
      "execution_count": 33,
      "metadata": {
        "id": "Zp_v6uyKJYjt"
      },
      "outputs": [],
      "source": [
        "# GRADED FUNCTION: forward_propagation\n",
        "\n",
        "@tf.function\n",
        "def forward_propagation(X, parameters):\n",
        "    \"\"\"\n",
        "    Implements the forward propagation for the model: LINEAR -> RELU -> LINEAR -> RELU -> LINEAR\n",
        "\n",
        "    Arguments:\n",
        "    X -- input dataset placeholder, of shape (input size, number of examples)\n",
        "    parameters -- python dictionary containing your parameters \"W1\", \"b1\", \"W2\", \"b2\", \"W3\", \"b3\"\n",
        "                  the shapes are given in initialize_parameters\n",
        "\n",
        "    Returns:\n",
        "    Z3 -- the output of the last LINEAR unit\n",
        "    \"\"\"\n",
        "\n",
        "    # Retrieve the parameters from the dictionary \"parameters\"\n",
        "    W1 = parameters['W1']\n",
        "    b1 = parameters['b1']\n",
        "    W2 = parameters['W2']\n",
        "    b2 = parameters['b2']\n",
        "    W3 = parameters['W3']\n",
        "    b3 = parameters['b3']\n",
        "\n",
        "    #(approx. 5 lines)                   # Numpy Equivalents:\n",
        "    Z1 = tf.add(tf.matmul(W1,X),b1)    # Z1 = np.dot(W1, X) + b1\n",
        "    A1 = tf.keras.activations.relu(Z1) # A1 = relu(Z1)\n",
        "    Z2 = tf.add(tf.matmul(W2,A1),b2)   # Z2 = np.dot(W2, A1) + b2\n",
        "    A2 = tf.keras.activations.relu(Z2) # A2 = relu(Z2)\n",
        "    Z3 = tf.add(tf.matmul(W3,A2),b3)   # Z3 = np.dot(W3, A2) + b3\n",
        "    # YOUR CODE STARTS HERE\n",
        "\n",
        "\n",
        "    # YOUR CODE ENDS HERE\n",
        "\n",
        "    return Z3"
      ]
    },
    {
      "cell_type": "code",
      "execution_count": 34,
      "metadata": {
        "colab": {
          "base_uri": "https://localhost:8080/"
        },
        "id": "w5GVOVb6JcjW",
        "outputId": "b408908a-122c-460d-85e3-795b68f26bb6"
      },
      "outputs": [
        {
          "name": "stdout",
          "output_type": "stream",
          "text": [
            "tf.Tensor(\n",
            "[[-0.13082159]\n",
            " [ 0.21228778]\n",
            " [ 0.7050022 ]\n",
            " [-1.1224034 ]\n",
            " [-0.20386729]\n",
            " [ 0.9526217 ]], shape=(6, 1), dtype=float32)\n",
            "\u001b[92mAll test passed\n"
          ]
        }
      ],
      "source": [
        "def forward_propagation_test(target, examples):\n",
        "    for batch in examples:\n",
        "        forward_pass = target(batch, parameters)\n",
        "        assert type(forward_pass) == EagerTensor, \"Your output is not a tensor\"\n",
        "        assert forward_pass.shape == (6, 1), \"Last layer must use W3 and b3\"\n",
        "        assert np.any(forward_pass < 0), \"Don't use a ReLu layer at end of your network\"\n",
        "        assert np.allclose(forward_pass,\n",
        "                           [[-0.13082162],\n",
        "                           [ 0.21228778],\n",
        "                           [ 0.7050022 ],\n",
        "                           [-1.1224034 ],\n",
        "                           [-0.20386729],\n",
        "                           [ 0.9526217 ]]), \"Output does not match\"\n",
        "        print(forward_pass)\n",
        "        break\n",
        "\n",
        "\n",
        "    print(\"\\033[92mAll test passed\")\n",
        "\n",
        "forward_propagation_test(forward_propagation, new_train)"
      ]
    },
    {
      "cell_type": "markdown",
      "metadata": {
        "id": "nbPelPtEM0K-"
      },
      "source": [
        "3.2 Compute the Cost\n",
        "Here again, the delightful @tf.function decorator steps in and saves you time. All you need to do is specify how to compute the cost, and you can do so in one simple step by using:\n",
        "\n",
        "tf.reduce_mean(tf.keras.losses.binary_crossentropy(y_true = ..., y_pred = ..., from_logits=True))\n",
        "\n",
        "\n",
        "Exercise 6 - compute_cost\n",
        "Implement the cost function below.\n",
        "\n",
        "It's important to note that the \"y_pred\" and \"y_true\" inputs of tf.keras.losses.binary_crossentropy are expected to be of shape (number of examples, num_classes). Since both the transpose and the original tensors have the same values, just in different order, the result of calculating the binary_crossentropy should be the same if you transpose or not the logits and labels. Just for reference here is how the Binary Cross entropy is calculated in TensorFlow:\n",
        "mean_reduce(max(logits, 0) - logits * labels + log(1 + exp(-abs(logits))), axis=-1)\n",
        "\n",
        "tf.reduce_mean basically does the summation over the examples."
      ]
    },
    {
      "cell_type": "code",
      "execution_count": 35,
      "metadata": {
        "id": "K1RqRhXgJfT6"
      },
      "outputs": [],
      "source": [
        "# GRADED FUNCTION: compute_cost\n",
        "\n",
        "@tf.function\n",
        "def compute_cost(logits, labels):\n",
        "    \"\"\"\n",
        "    Computes the cost\n",
        "\n",
        "    Arguments:\n",
        "    logits -- output of forward propagation (output of the last LINEAR unit), of shape (6, number of examples)\n",
        "    labels -- \"true\" labels vector, same shape as Z3\n",
        "\n",
        "    Returns:\n",
        "    cost - Tensor of the cost function\n",
        "    \"\"\"\n",
        "\n",
        "    #(1 line of code)\n",
        "    # cost = ...\n",
        "    # YOUR CODE STARTS HERE\n",
        "    cost = tf.reduce_mean(tf.keras.losses.binary_crossentropy(labels,logits,from_logits=True))\n",
        "\n",
        "    # YOUR CODE ENDS HERE\n",
        "    return cost"
      ]
    },
    {
      "cell_type": "code",
      "execution_count": 36,
      "metadata": {
        "colab": {
          "base_uri": "https://localhost:8080/"
        },
        "id": "kjNcgEy1JjdE",
        "outputId": "3f89cd72-02b4-4a80-f0f6-618b39e60e54"
      },
      "outputs": [
        {
          "name": "stdout",
          "output_type": "stream",
          "text": [
            "tf.Tensor(0.8419182681095858, shape=(), dtype=float64)\n",
            "\u001b[92mAll test passed\n"
          ]
        }
      ],
      "source": [
        "def compute_cost_test(target):\n",
        "    labels = np.array([[0., 1.], [0., 0.], [1., 0.]])\n",
        "    logits = np.array([[0.6, 0.4], [0.4, 0.6], [0.4, 0.6]])\n",
        "    result = compute_cost(logits, labels)\n",
        "    print(result)\n",
        "    assert(type(result) == EagerTensor), \"Use the TensorFlow API\"\n",
        "    assert (np.abs(result - (0.7752516 +  0.9752516 + 0.7752516) / 3.0) < 1e-7), \"Test does not match. Did you get the mean of your cost functions?\"\n",
        "\n",
        "    print(\"\\033[92mAll test passed\")\n",
        "\n",
        "compute_cost_test(compute_cost)"
      ]
    },
    {
      "cell_type": "markdown",
      "metadata": {
        "id": "OzDlPkFkM8du"
      },
      "source": [
        "Train the Model\n",
        "Let's talk optimizers. You'll specify the type of optimizer in one line, in this case tf.keras.optimizers.Adam (though you can use others such as SGD), and then call it within the training loop.\n",
        "\n",
        "Notice the tape.gradient function: this allows you to retrieve the operations recorded for automatic differentiation inside the GradientTape block. Then, calling the optimizer method apply_gradients, will apply the optimizer's update rules to each trainable parameter. At the end of this assignment, you'll find some documentation that explains this more in detail, but for now, a simple explanation will do. ;)\n",
        "\n",
        "Here you should take note of an important extra step that's been added to the batch training process:\n",
        "\n",
        "tf.Data.dataset = dataset.prefetch(8)\n",
        "What this does is prevent a memory bottleneck that can occur when reading from disk. prefetch() sets aside some data and keeps it ready for when it's needed. It does this by creating a source dataset from your input data, applying a transformation to preprocess the data, then iterating over the dataset the specified number of elements at a time. This works because the iteration is streaming, so the data doesn't need to fit into the memory."
      ]
    },
    {
      "cell_type": "code",
      "execution_count": 58,
      "metadata": {
        "id": "EL79s6uPJl_-"
      },
      "outputs": [],
      "source": [
        "def model(X_train, Y_train, X_test, Y_test, learning_rate = 0.0001,\n",
        "          num_epochs = 1500, minibatch_size = 32, print_cost = True):\n",
        "    \"\"\"\n",
        "    Implements a three-layer tensorflow neural network: LINEAR->RELU->LINEAR->RELU->LINEAR->SOFTMAX.\n",
        "\n",
        "    Arguments:\n",
        "    X_train -- training set, of shape (input size = 12288, number of training examples = 1080)\n",
        "    Y_train -- test set, of shape (output size = 6, number of training examples = 1080)\n",
        "    X_test -- training set, of shape (input size = 12288, number of training examples = 120)\n",
        "    Y_test -- test set, of shape (output size = 6, number of test examples = 120)\n",
        "    learning_rate -- learning rate of the optimization\n",
        "    num_epochs -- number of epochs of the optimization loop\n",
        "    minibatch_size -- size of a minibatch\n",
        "    print_cost -- True to print the cost every 100 epochs\n",
        "\n",
        "    Returns:\n",
        "    parameters -- parameters learnt by the model. They can then be used to predict.\n",
        "    \"\"\"\n",
        "\n",
        "    costs = []                                        # To keep track of the cost\n",
        "\n",
        "    # Initialize your parameters\n",
        "    #(1 line)\n",
        "    parameters = initialize_parameters()\n",
        "\n",
        "    W1 = parameters['W1']\n",
        "    b1 = parameters['b1']\n",
        "    W2 = parameters['W2']\n",
        "    b2 = parameters['b2']\n",
        "    W3 = parameters['W3']\n",
        "    b3 = parameters['b3']\n",
        "\n",
        "    optimizer = tf.keras.optimizers.SGD(learning_rate)\n",
        "\n",
        "    X_train = X_train.batch(minibatch_size, drop_remainder=True).prefetch(8)# <<< extra step\n",
        "    Y_train = Y_train.batch(minibatch_size, drop_remainder=True).prefetch(8) # loads memory faster\n",
        "    # Create a directory to save the checkpoints\n",
        "    checkpoint_dir = \"training_checkpoints\"\n",
        "    os.makedirs(checkpoint_dir, exist_ok=True)\n",
        "\n",
        "    # Define the checkpoint path\n",
        "    checkpoint_path = os.path.join(checkpoint_dir, \"cp-{epoch:04d}.ckpt\")\n",
        "\n",
        "    # Create a callback that saves the model's weights after every epoch\n",
        "    cp_callback = tf.keras.callbacks.ModelCheckpoint(filepath=checkpoint_path,\n",
        "                                                     save_weights_only=True,\n",
        "                                                     save_freq='epoch',  # Save after every epoch\n",
        "                                                     verbose=1)\n",
        "    # Do the training loop\n",
        "    for epoch in range(num_epochs):\n",
        "\n",
        "        epoch_cost = 0.\n",
        "\n",
        "        for (minibatch_X, minibatch_Y) in zip(X_train, Y_train):\n",
        "            # Select a minibatch\n",
        "            with tf.GradientTape() as tape:\n",
        "                # 1. predict\n",
        "                Z3 = forward_propagation(minibatch_X, parameters)\n",
        "                # 2. loss\n",
        "                minibatch_cost = compute_cost(Z3, minibatch_Y)\n",
        "\n",
        "            trainable_variables = [W1, b1, W2, b2, W3, b3]\n",
        "            grads = tape.gradient(minibatch_cost, trainable_variables)\n",
        "            optimizer.apply_gradients(zip(grads, trainable_variables))\n",
        "            epoch_cost += minibatch_cost / minibatch_size\n",
        "\n",
        "        # Print the cost every epoch\n",
        "        if print_cost == True and epoch % 10 == 0:\n",
        "            print (\"Cost after epoch %i: %f\" % (epoch, epoch_cost))\n",
        "        if print_cost == True and epoch % 5 == 0:\n",
        "            costs.append(epoch_cost)\n",
        "\n",
        "    # Plot the cost\n",
        "    plt.plot(np.squeeze(costs))\n",
        "    plt.ylabel('cost')\n",
        "    plt.xlabel('iterations (per fives)')\n",
        "    plt.title(\"Learning rate =\" + str(learning_rate))\n",
        "    plt.show()\n",
        "\n",
        "    # Save the parameters in a variable\n",
        "    print (\"Parameters have been trained!\")\n",
        "\n",
        "    return parameters\n"
      ]
    },
    {
      "cell_type": "code",
      "execution_count": 60,
      "metadata": {
        "colab": {
          "base_uri": "https://localhost:8080/",
          "height": 836
        },
        "id": "2UirosyAaLI7",
        "outputId": "06456564-d353-4aa9-cebf-c1efc44b2fbe"
      },
      "outputs": [
        {
          "name": "stdout",
          "output_type": "stream",
          "text": [
            "Cost after epoch 0: 0.742591\n",
            "Cost after epoch 10: 0.614557\n",
            "Cost after epoch 20: 0.598900\n",
            "Cost after epoch 30: 0.588907\n",
            "Cost after epoch 40: 0.579898\n",
            "Cost after epoch 50: 0.570628\n",
            "Cost after epoch 60: 0.560898\n",
            "Cost after epoch 70: 0.550808\n",
            "Cost after epoch 80: 0.540497\n",
            "Cost after epoch 90: 0.488142\n",
            "Cost after epoch 100: 0.478271\n",
            "Cost after epoch 110: 0.472863\n",
            "Cost after epoch 120: 0.468990\n",
            "Cost after epoch 130: 0.466014\n",
            "Cost after epoch 140: 0.463661\n",
            "Cost after epoch 150: 0.461677\n",
            "Cost after epoch 160: 0.459951\n",
            "Cost after epoch 170: 0.458391\n",
            "Cost after epoch 180: 0.456969\n",
            "Cost after epoch 190: 0.455648\n"
          ]
        },
        {
          "data": {
            "image/png": "[encoded data removed]",
            "text/plain": [
              "<Figure size 640x480 with 1 Axes>"
            ]
          },
          "metadata": {},
          "output_type": "display_data"
        },
        {
          "name": "stdout",
          "output_type": "stream",
          "text": [
            "Parameters have been trained!\n"
          ]
        }
      ],
      "source": [
        "trained_parameters  = model(new_train, new_y_train, new_test, new_y_test, num_epochs=200)"
      ]
    },
    {
      "cell_type": "code",
      "execution_count": 61,
      "metadata": {
        "colab": {
          "base_uri": "https://localhost:8080/"
        },
        "id": "Zdn7nyvRadsB",
        "outputId": "eb4740e1-c609-4665-e78d-406abd54ae0a"
      },
      "outputs": [
        {
          "name": "stdout",
          "output_type": "stream",
          "text": [
            "{'W1': <tf.Variable 'Variable:0' shape=(25, 12288) dtype=float32, numpy=\n",
            "array([[ 0.00159527, -0.00737913,  0.00893296, ..., -0.01227794,\n",
            "         0.01642206,  0.00506491],\n",
            "       [ 0.02264025,  0.0067227 ,  0.00795862, ...,  0.00284724,\n",
            "         0.01910819,  0.00122853],\n",
            "       [-0.00173585, -0.00872453, -0.01410444, ..., -0.00733837,\n",
            "         0.0205085 , -0.02683027],\n",
            "       ...,\n",
            "       [-0.00126929,  0.01729332,  0.02082342, ...,  0.01709594,\n",
            "         0.00429358, -0.00733263],\n",
            "       [ 0.00268262,  0.004105  ,  0.00936713, ...,  0.01222287,\n",
            "        -0.02717604,  0.01498359],\n",
            "       [-0.00145541,  0.02459595,  0.00339064, ..., -0.02478788,\n",
            "         0.02716016, -0.00306428]], dtype=float32)>, 'b1': <tf.Variable 'Variable:0' shape=(25, 1) dtype=float32, numpy=\n",
            "array([[ 0.03964256],\n",
            "       [-0.15545043],\n",
            "       [ 0.19885883],\n",
            "       [-0.24874453],\n",
            "       [-0.28676757],\n",
            "       [-0.12604603],\n",
            "       [-0.01213098],\n",
            "       [ 0.14784063],\n",
            "       [-0.00413172],\n",
            "       [-0.4408977 ],\n",
            "       [ 0.54054177],\n",
            "       [-0.4345032 ],\n",
            "       [ 0.11763882],\n",
            "       [ 0.21523887],\n",
            "       [-0.06772587],\n",
            "       [-0.16429274],\n",
            "       [-0.05259616],\n",
            "       [-0.18479495],\n",
            "       [-0.00280256],\n",
            "       [-0.06777475],\n",
            "       [ 0.09226809],\n",
            "       [ 0.02067652],\n",
            "       [-0.05682073],\n",
            "       [ 0.37065902],\n",
            "       [ 0.21586621]], dtype=float32)>, 'W2': <tf.Variable 'Variable:0' shape=(12, 25) dtype=float32, numpy=\n",
            "array([[ 0.03270398, -0.13031   ,  0.16566682, -0.20850259, -0.2404858 ,\n",
            "        -0.10598166, -0.01016674,  0.12317107, -0.00411659, -0.3709333 ,\n",
            "         0.45312327, -0.36423257,  0.09766971,  0.18042907, -0.05753208,\n",
            "        -0.13796303, -0.04518652, -0.15597364, -0.00236228, -0.05681378,\n",
            "         0.07734591,  0.01733258, -0.04763132,  0.31054643,  0.18095495],\n",
            "       [ 0.275006  ,  0.0652916 ,  0.19277105,  0.00808901, -0.35061046,\n",
            "        -0.04379591,  0.00529772,  0.14074473, -0.22700697, -0.08254652,\n",
            "        -0.10437229, -0.27877635, -0.22737731, -0.15467171, -0.30434608,\n",
            "         0.42841426,  0.04013019,  0.14082581,  0.40803406,  0.19127996,\n",
            "        -0.08289494,  0.19833343, -0.18854785,  0.11045384, -0.10293514],\n",
            "       [ 0.07370555,  0.12879197, -0.38048682, -0.1428371 , -0.16866712,\n",
            "        -0.12560502,  0.08047906, -0.14222261, -0.3291437 ,  0.11487076,\n",
            "         0.21897362,  0.1428981 ,  0.4108547 , -0.02966296, -0.11487766,\n",
            "         0.2835236 ,  0.2571582 , -0.12365929,  0.1469501 , -0.39992067,\n",
            "        -0.11544652, -0.11918075, -0.5031594 , -0.16647008, -0.0463655 ],\n",
            "       [-0.11886349,  0.19529893, -0.13205278, -0.46206364,  0.07806116,\n",
            "        -0.36992028, -0.06379852,  0.37158278,  0.0755597 ,  0.5198782 ,\n",
            "        -0.01714175,  0.35476214,  0.09361284,  0.17954445,  0.00514452,\n",
            "         0.04280831,  0.1051797 ,  0.03766965, -0.23309673, -0.23678231,\n",
            "        -0.07444265, -0.30713868, -0.11694647,  0.3292588 , -0.09511969],\n",
            "       [ 0.1594041 ,  0.0393942 ,  0.47869283,  0.2265753 ,  0.03725046,\n",
            "        -0.51921755, -0.01731534, -0.31578013, -0.21672064,  0.04122872,\n",
            "         0.04947535, -0.29094276, -0.03152779,  0.47902155,  0.31676546,\n",
            "         0.0473902 ,  0.07770424,  0.3139462 , -0.02500637,  0.10048122,\n",
            "        -0.05332499, -0.34107792, -0.13928485,  0.12402117, -0.41300818],\n",
            "       [-0.14994699,  0.03965309, -0.47870195, -0.07975383,  0.09755022,\n",
            "        -0.00232862, -0.26367775, -0.23967475,  0.24946521,  0.22969191,\n",
            "        -0.30773658,  0.1017215 ,  0.03053034,  0.26468748, -0.51858497,\n",
            "        -0.08669744,  0.03128893,  0.28504866,  0.2072474 , -0.14461054,\n",
            "        -0.09631125,  0.2553377 ,  0.0313108 ,  0.28684467,  0.02228327],\n",
            "       [-0.20329641, -0.2922766 , -0.03024991,  0.00603078,  0.34428513,\n",
            "         0.14932795, -0.42723438,  0.07875892,  0.06157893, -0.19437575,\n",
            "         0.03054013, -0.20949648,  0.2890019 ,  0.03168807,  0.18291238,\n",
            "        -0.17629069, -0.2162296 ,  0.02522451, -0.17976451,  0.20999093,\n",
            "         0.13074148,  0.12900151, -0.29620144,  0.39828372,  0.35581756],\n",
            "       [-0.08132942,  0.0508789 ,  0.03970909, -0.06884057, -0.07758211,\n",
            "         0.21220328,  0.16169944, -0.05766106, -0.04837854, -0.23052695,\n",
            "         0.2551639 , -0.2933403 , -0.16104451, -0.11232601, -0.1305835 ,\n",
            "         0.0502181 ,  0.18621859, -0.07786819,  0.10281896, -0.06372993,\n",
            "         0.41251048, -0.01803587,  0.04746069,  0.27628538, -0.21901166],\n",
            "       [ 0.28539097,  0.20629272, -0.38372156,  0.26297212,  0.2350495 ,\n",
            "         0.18105377,  0.25501856, -0.19114897,  0.355807  ,  0.00106926,\n",
            "        -0.33252424, -0.09722907, -0.00984821,  0.22310142, -0.22939995,\n",
            "        -0.027319  ,  0.18572639, -0.00867896,  0.47467512,  0.00131025,\n",
            "         0.3148377 , -0.22662118,  0.12927507,  0.04265415, -0.45121887],\n",
            "       [-0.23054187, -0.22334962, -0.18913192,  0.15417175, -0.07368277,\n",
            "        -0.0554374 ,  0.12214173,  0.3880139 , -0.01242276,  0.11768965,\n",
            "         0.26777858, -0.06251994, -0.12100054, -0.12495217, -0.03189994,\n",
            "        -0.50085783, -0.09560107, -0.2402923 ,  0.07087833,  0.03642716,\n",
            "        -0.00494978, -0.36984688,  0.00878784,  0.24595837, -0.1323934 ],\n",
            "       [ 0.3191285 ,  0.02266271, -0.06669848, -0.33996752,  0.36436084,\n",
            "        -0.2986556 , -0.0511701 , -0.37243623,  0.27359596,  0.20692125,\n",
            "         0.02171116,  0.10230298, -0.3980014 ,  0.02363082,  0.13089406,\n",
            "         0.3354062 ,  0.08214817,  0.20031573, -0.081278  , -0.28784147,\n",
            "         0.17327178, -0.1326688 ,  0.28894275, -0.19869894, -0.03405774],\n",
            "       [ 0.18820512, -0.20398362, -0.03503615, -0.36792815, -0.22963929,\n",
            "         0.23911732, -0.04237934, -0.0165515 , -0.05906188,  0.16423856,\n",
            "        -0.32017106,  0.15379827,  0.14842801, -0.24647985, -0.08833543,\n",
            "         0.13306345,  0.41101247,  0.362632  ,  0.3355143 ,  0.05405051,\n",
            "         0.21186371,  0.0197499 ,  0.45979315,  0.04402945,  0.36662805]],\n",
            "      dtype=float32)>, 'b2': <tf.Variable 'Variable:0' shape=(12, 1) dtype=float32, numpy=\n",
            "array([[ 0.05586328],\n",
            "       [-0.22080165],\n",
            "       [ 0.28016472],\n",
            "       [-0.35078037],\n",
            "       [-0.4071067 ],\n",
            "       [-0.17678553],\n",
            "       [-0.01738933],\n",
            "       [ 0.20840582],\n",
            "       [-0.00978936],\n",
            "       [-0.6255955 ],\n",
            "       [ 0.76646936],\n",
            "       [-0.6127309 ]], dtype=float32)>, 'W3': <tf.Variable 'Variable:0' shape=(6, 12) dtype=float32, numpy=\n",
            "array([[ 0.04761663, -0.1869142 ,  0.23871909, -0.29910955, -0.34814283,\n",
            "        -0.14891681, -0.01468904,  0.17718893, -0.00528874, -0.53165394,\n",
            "         0.6512269 , -0.52562165],\n",
            "       [ 0.14137168,  0.2585655 , -0.08242776, -0.24897614, -0.08694383,\n",
            "        -0.23123945, -0.00362752, -0.08165746,  0.10867161,  0.02485008,\n",
            "        -0.10594384,  0.40712836],\n",
            "       [ 0.2588232 ,  0.39531493,  0.09260565,  0.19811322, -0.02675355,\n",
            "        -0.5141325 , -0.06277467,  0.0073774 ,  0.20107801, -0.3234572 ,\n",
            "        -0.17168574, -0.21085033],\n",
            "       [-0.39999744, -0.32459378, -0.22211906, -0.44647554,  0.60610884,\n",
            "         0.06233876,  0.20539553,  0.5849541 ,  0.27438077, -0.11884821,\n",
            "         0.27649078, -0.2822457 ],\n",
            "       [ 0.15867612, -0.14753199,  0.10718005,  0.20221218, -0.5397337 ,\n",
            "        -0.1961394 , -0.24190293, -0.17912963,  0.11743002, -0.20150405,\n",
            "        -0.45716155,  0.17953752],\n",
            "       [ 0.313728  ,  0.20475906,  0.5910115 , -0.07041358, -0.17219502,\n",
            "         0.39685282,  0.37256533, -0.17371103,  0.2085042 , -0.5733746 ,\n",
            "        -0.18640897, -0.19104898]], dtype=float32)>, 'b3': <tf.Variable 'Variable:0' shape=(6, 1) dtype=float32, numpy=\n",
            "array([[ 0.07464746],\n",
            "       [-0.31648052],\n",
            "       [ 0.3577738 ],\n",
            "       [-0.4854469 ],\n",
            "       [-0.5509957 ],\n",
            "       [-0.24964447]], dtype=float32)>}\n"
          ]
        }
      ],
      "source": [
        "print(trained_parameters)"
      ]
    },
    {
      "cell_type": "code",
      "execution_count": 62,
      "metadata": {
        "id": "OhXDbL6lgfUW"
      },
      "outputs": [],
      "source": [
        "def create_model(parameters):\n",
        "    model = tf.keras.Sequential([\n",
        "        tf.keras.layers.Dense(25, activation='relu', input_shape=(12288,),\n",
        "                              kernel_initializer=tf.constant_initializer(parameters['W1'].numpy()),\n",
        "                              bias_initializer=tf.constant_initializer(parameters['b1'].numpy())),\n",
        "        tf.keras.layers.Dense(12, activation='relu',\n",
        "                              kernel_initializer=tf.constant_initializer(parameters['W2'].numpy()),\n",
        "                              bias_initializer=tf.constant_initializer(parameters['b2'].numpy())),\n",
        "        tf.keras.layers.Dense(6, activation='softmax',\n",
        "                              kernel_initializer=tf.constant_initializer(parameters['W3'].numpy()),\n",
        "                              bias_initializer=tf.constant_initializer(parameters['b3'].numpy()))\n",
        "    ])\n",
        "\n",
        "    model.compile(optimizer='adam', loss='sparse_categorical_crossentropy', metrics=['accuracy'])\n",
        "    return model\n"
      ]
    },
    {
      "cell_type": "code",
      "execution_count": 70,
      "metadata": {
        "colab": {
          "base_uri": "https://localhost:8080/"
        },
        "id": "SgB5ywEmgiji",
        "outputId": "5b0c7dbf-cece-426c-8806-7132a4fc4076"
      },
      "outputs": [
        {
          "name": "stdout",
          "output_type": "stream",
          "text": [
            "<keras.src.engine.sequential.Sequential object at 0x7ce0b1183d00>\n"
          ]
        }
      ],
      "source": [
        "# Load the model\n",
        "trained_model = create_model(trained_parameters)\n",
        "print(trained_model)"
      ]
    },
    {
      "cell_type": "markdown",
      "metadata": {
        "id": "RK6wQ_UINFXr"
      },
      "source": [
        "Congratulations u have successfully completed the model implementation using tensorflow . eager tensor"
      ]
    }
  ],
  "metadata": {
    "colab": {
      "provenance": []
    },
    "kernelspec": {
      "display_name": "Python 3",
      "name": "python3"
    },
    "language_info": {
      "name": "python"
    }
  },
  "nbformat": 4,
  "nbformat_minor": 0
}
