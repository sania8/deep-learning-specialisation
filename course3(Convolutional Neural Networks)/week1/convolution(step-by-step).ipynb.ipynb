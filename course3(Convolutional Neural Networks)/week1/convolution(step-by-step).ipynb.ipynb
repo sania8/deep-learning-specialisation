{
  "nbformat": 4,
  "nbformat_minor": 0,
  "metadata": {
    "colab": {
      "provenance": []
    },
    "kernelspec": {
      "name": "python3",
      "display_name": "Python 3"
    },
    "language_info": {
      "name": "python"
    }
  },
  "cells": [
    {
      "cell_type": "code",
      "source": [
        "from google.colab import drive\n",
        "drive.mount('/content/drive')"
      ],
      "metadata": {
        "colab": {
          "base_uri": "https://localhost:8080/"
        },
        "id": "ZLjcsIxMQIzs",
        "outputId": "de2b1fd8-88b4-4a70-d859-b4e99ba5752c"
      },
      "execution_count": 1,
      "outputs": [
        {
          "output_type": "stream",
          "name": "stdout",
          "text": [
            "Mounted at /content/drive\n"
          ]
        }
      ]
    },
    {
      "cell_type": "code",
      "execution_count": 6,
      "metadata": {
        "colab": {
          "base_uri": "https://localhost:8080/"
        },
        "id": "Cl7WCSksQEc1",
        "outputId": "99050b32-041f-4ad4-a4d6-d36179a065dc"
      },
      "outputs": [
        {
          "output_type": "stream",
          "name": "stdout",
          "text": [
            "/content/drive/MyDrive/Desktop/PythonP/week1\n"
          ]
        }
      ],
      "source": [
        "%cd \"/content/drive/MyDrive/Desktop/PythonP/week1\""
      ]
    },
    {
      "cell_type": "code",
      "source": [
        "# upload all the packages\n",
        "import numpy as np\n",
        "import h5py\n",
        "import matplotlib.pyplot as plt\n",
        "from public_tests import *\n",
        "\n",
        "%matplotlib inline\n",
        "plt.rcParams['figure.figsize'] = (5.0, 4.0) # set default size of plots\n",
        "plt.rcParams['image.interpolation'] = 'nearest'\n",
        "plt.rcParams['image.cmap'] = 'gray'\n",
        "\n",
        "%load_ext autoreload\n",
        "%autoreload 2\n",
        "\n",
        "np.random.seed(1)"
      ],
      "metadata": {
        "id": "Lne9Hvk5Qa3r"
      },
      "execution_count": 7,
      "outputs": []
    },
    {
      "cell_type": "code",
      "source": [
        "# zero padding\n",
        "def zero_pad(X , pad):\n",
        "  x_pad = np.pad(X,((0,0),(pad,pad),(pad,pad),(0,0)))\n",
        "  return x_pad\n"
      ],
      "metadata": {
        "id": "p4dZ9j6oQo5C"
      },
      "execution_count": 18,
      "outputs": []
    },
    {
      "cell_type": "code",
      "source": [
        "np.random.seed(1)\n",
        "x = np.random.randn(4, 3, 3, 2)\n",
        "x_pad = zero_pad(x, 3)\n",
        "print (\"x.shape =\\n\", x.shape)\n",
        "print (\"x_pad.shape =\\n\", x_pad.shape)\n",
        "print (\"x[1,1] =\\n\", x[1, 1])\n",
        "print (\"x_pad[1,1] =\\n\", x_pad[1, 1])\n",
        "\n",
        "assert type(x_pad) == np.ndarray, \"Output must be a np array\"\n",
        "assert x_pad.shape == (4, 9, 9, 2), f\"Wrong shape: {x_pad.shape} != (4, 9, 9, 2)\"\n",
        "print(x_pad[0, 0:2,:, 0])\n",
        "assert np.allclose(x_pad[0, 0:2,:, 0], [[0, 0, 0, 0, 0, 0, 0, 0, 0], [0, 0, 0, 0, 0, 0, 0, 0, 0]], 1e-15), \"Rows are not padded with zeros\"\n",
        "assert np.allclose(x_pad[0, :, 7:9, 1].transpose(), [[0, 0, 0, 0, 0, 0, 0, 0, 0], [0, 0, 0, 0, 0, 0, 0, 0, 0]], 1e-15), \"Columns are not padded with zeros\"\n",
        "assert np.allclose(x_pad[:, 3:6, 3:6, :], x, 1e-15), \"Internal values are different\"\n",
        "\n",
        "fig, axarr = plt.subplots(1, 2)\n",
        "axarr[0].set_title('x')\n",
        "axarr[0].imshow(x[0, :, :, 0])\n",
        "axarr[1].set_title('x_pad')\n",
        "axarr[1].imshow(x_pad[0, :, :, 0])\n",
        "zero_pad_test(zero_pad)"
      ],
      "metadata": {
        "colab": {
          "base_uri": "https://localhost:8080/",
          "height": 623
        },
        "id": "P97NgI8LWfrd",
        "outputId": "f6a45196-5c01-447a-8289-2deb4d92da53"
      },
      "execution_count": 5,
      "outputs": [
        {
          "output_type": "stream",
          "name": "stdout",
          "text": [
            "x.shape =\n",
            " (4, 3, 3, 2)\n",
            "x_pad.shape =\n",
            " (4, 9, 9, 2)\n",
            "x[1,1] =\n",
            " [[ 0.90085595 -0.68372786]\n",
            " [-0.12289023 -0.93576943]\n",
            " [-0.26788808  0.53035547]]\n",
            "x_pad[1,1] =\n",
            " [[0. 0.]\n",
            " [0. 0.]\n",
            " [0. 0.]\n",
            " [0. 0.]\n",
            " [0. 0.]\n",
            " [0. 0.]\n",
            " [0. 0.]\n",
            " [0. 0.]\n",
            " [0. 0.]]\n",
            "[[0. 0. 0. 0. 0. 0. 0. 0. 0.]\n",
            " [0. 0. 0. 0. 0. 0. 0. 0. 0.]]\n",
            "\u001b[92m All tests passed.\n"
          ]
        },
        {
          "output_type": "display_data",
          "data": {
            "text/plain": [
              "<Figure size 500x400 with 2 Axes>"
            ],
            "image/png": "[encoded data removed]"
          },
          "metadata": {}
        }
      ]
    },
    {
      "cell_type": "markdown",
      "source": [
        "single step of convolution"
      ],
      "metadata": {
        "id": "vZmFkLnwXIQl"
      }
    },
    {
      "cell_type": "code",
      "source": [
        "#Implement conv_single_step()\n",
        "def conv_single_step(a_slice , W , b):\n",
        "  s = np.multiply(a_slice , W)\n",
        "  Z = np.sum(s)\n",
        "  b = np.squeeze(b)\n",
        "  Z = Z+b\n",
        "  return Z"
      ],
      "metadata": {
        "id": "1nBdtML3XKU2"
      },
      "execution_count": 3,
      "outputs": []
    },
    {
      "cell_type": "code",
      "source": [
        "np.random.seed(1)\n",
        "a_slice_prev = np.random.randn(4, 4, 3)\n",
        "W = np.random.randn(4, 4, 3)\n",
        "b = np.random.randn(1, 1, 1)\n",
        "\n",
        "Z = conv_single_step(a_slice_prev, W, b)\n",
        "print(\"Z =\", Z)\n",
        "conv_single_step_test(conv_single_step)\n",
        "\n",
        "assert (type(Z) == np.float64 or type(Z) == np.float32), \"You must cast the output to float\"\n",
        "assert np.isclose(Z, -6.999089450680221), \"Wrong value\""
      ],
      "metadata": {
        "colab": {
          "base_uri": "https://localhost:8080/"
        },
        "id": "v0zD_hui0Kq2",
        "outputId": "205abd88-4a42-4c49-e1be-548e842d7b12"
      },
      "execution_count": 8,
      "outputs": [
        {
          "output_type": "stream",
          "name": "stdout",
          "text": [
            "Z = -6.999089450680221\n",
            "\u001b[92m All tests passed.\n"
          ]
        }
      ]
    },
    {
      "cell_type": "markdown",
      "source": [
        "Convolutional Neural Networks - Forward Pass\n",
        "In the forward pass, you will take many filters and convolve them on the input. Each 'convolution' gives you a 2D matrix output. You will then stack these outputs to get a 3D volume:"
      ],
      "metadata": {
        "id": "qgXYZbgV07aU"
      }
    },
    {
      "cell_type": "code",
      "source": [
        "def conv_forward(A_prev, W, b, hparameters):\n",
        "  (m, n_H_prev, n_W_prev, n_C_prev) = A_prev.shape\n",
        "  (f, f, n_C_prev, n_C) = W.shape\n",
        "  stride = hparameters[\"stride\"]\n",
        "  pad = hparameters[\"pad\"]\n",
        "  n_H = int((n_H_prev+2*pad-f)/stride) +1\n",
        "  n_W = int((n_W_prev +2*pad -f)/stride)+1\n",
        "  Z = np.zeros((m, n_H, n_W, n_C))\n",
        "  # create padding\n",
        "  A_prev_pad = zero_pad(A_prev, pad)\n",
        "  for i in range(m):               # loop over the batch of training examples\n",
        "        a_prev_pad = A_prev_pad[i]          # Select ith training example's padded activation\n",
        "        for h in range(n_H):           # loop over vertical axis of the output volume\n",
        "            # Find the vertical start and end of the current \"slice\" (≈2 lines)\n",
        "            vert_start = stride * h\n",
        "            vert_end = vert_start  + f\n",
        "\n",
        "            for w in range(n_W):       # loop over horizontal axis of the output volume\n",
        "                # Find the horizontal start and end of the current \"slice\" (≈2 lines)\n",
        "                horiz_start = stride * w\n",
        "                horiz_end = horiz_start + f\n",
        "\n",
        "                for c in range(n_C):   # loop over channels (= #filters) of the output volume\n",
        "\n",
        "                    # Use the corners to define the (3D) slice of a_prev_pad (See Hint above the cell). (≈1 line)\n",
        "                    a_slice_prev = a_prev_pad[vert_start:vert_end,horiz_start:horiz_end,:]\n",
        "\n",
        "                    # Convolve the (3D) slice with the correct filter W and bias b, to get back one output neuron. (≈3 line)\n",
        "                    weights = W[:, :, :, c]\n",
        "                    biases  = b[:, :, :, c]\n",
        "                    Z[i, h, w, c] = conv_single_step(a_slice_prev, weights, biases)\n",
        "          # Save information in \"cache\" for the backprop\n",
        "  cache = (A_prev, W, b, hparameters)\n",
        "\n",
        "  return Z, cache\n",
        "\n",
        "\n",
        ""
      ],
      "metadata": {
        "id": "bu_I39_701UT"
      },
      "execution_count": 19,
      "outputs": []
    },
    {
      "cell_type": "code",
      "source": [
        "np.random.seed(1)\n",
        "A_prev = np.random.randn(2, 5, 7, 4)\n",
        "W = np.random.randn(3, 3, 4, 8)\n",
        "b = np.random.randn(1, 1, 1, 8)\n",
        "hparameters = {\"pad\" : 1,\n",
        "               \"stride\": 2}\n",
        "\n",
        "Z, cache_conv = conv_forward(A_prev, W, b, hparameters)\n",
        "print(\"Z's mean =\\n\", np.mean(Z))\n",
        "print(\"Z[0,2,1] =\\n\", Z[0, 2, 1])\n",
        "print(\"cache_conv[0][1][2][3] =\\n\", cache_conv[0][1][2][3])\n",
        "\n",
        "conv_forward_test(conv_forward)"
      ],
      "metadata": {
        "colab": {
          "base_uri": "https://localhost:8080/"
        },
        "id": "AXqTj3Xj3zvm",
        "outputId": "20c000a2-0dae-40be-f27d-e5faebd504ec"
      },
      "execution_count": 20,
      "outputs": [
        {
          "output_type": "stream",
          "name": "stdout",
          "text": [
            "Z's mean =\n",
            " 0.5511276474566768\n",
            "Z[0,2,1] =\n",
            " [-2.17796037  8.07171329 -0.5772704   3.36286738  4.48113645 -2.89198428\n",
            " 10.99288867  3.03171932]\n",
            "cache_conv[0][1][2][3] =\n",
            " [-1.1191154   1.9560789  -0.3264995  -1.34267579]\n",
            "\u001b[92m All tests passed.\n"
          ]
        }
      ]
    },
    {
      "cell_type": "code",
      "source": [
        "#pooling layer\n",
        "# GRADED FUNCTION: pool_forward\n",
        "\n",
        "def pool_forward(A_prev, hparameters, mode = \"max\"):\n",
        "    \"\"\"\n",
        "    Implements the forward pass of the pooling layer\n",
        "\n",
        "    Arguments:\n",
        "    A_prev -- Input data, numpy array of shape (m, n_H_prev, n_W_prev, n_C_prev)\n",
        "    hparameters -- python dictionary containing \"f\" and \"stride\"\n",
        "    mode -- the pooling mode you would like to use, defined as a string (\"max\" or \"average\")\n",
        "\n",
        "    Returns:\n",
        "    A -- output of the pool layer, a numpy array of shape (m, n_H, n_W, n_C)\n",
        "    cache -- cache used in the backward pass of the pooling layer, contains the input and hparameters\n",
        "    \"\"\"\n",
        "\n",
        "    # Retrieve dimensions from the input shape\n",
        "    (m, n_H_prev, n_W_prev, n_C_prev) = A_prev.shape\n",
        "\n",
        "    # Retrieve hyperparameters from \"hparameters\"\n",
        "    f = hparameters[\"f\"]\n",
        "    stride = hparameters[\"stride\"]\n",
        "\n",
        "    # Define the dimensions of the output\n",
        "    n_H = int(1 + (n_H_prev - f) / stride)\n",
        "    n_W = int(1 + (n_W_prev - f) / stride)\n",
        "    n_C = n_C_prev\n",
        "\n",
        "    # Initialize output matrix A\n",
        "    A = np.zeros((m, n_H, n_W, n_C))\n",
        "\n",
        "    ### START CODE HERE ###\n",
        "    for i in range(m):                         # loop over the training examples\n",
        "        a_prev_slice = A_prev[i]\n",
        "        for h in range(n_H):                     # loop on the vertical axis of the output volume\n",
        "            # Find the vertical start and end of the current \"slice\" (≈2 lines)\n",
        "            vert_start = stride * h\n",
        "            vert_end = vert_start + f\n",
        "\n",
        "            for w in range(n_W):                 # loop on the horizontal axis of the output volume\n",
        "                # Find the vertical start and end of the current \"slice\" (≈2 lines)\n",
        "                horiz_start = stride * w\n",
        "                horiz_end = horiz_start + f\n",
        "\n",
        "                for c in range (n_C):            # loop over the channels of the output volume\n",
        "\n",
        "                    # Use the corners to define the current slice on the ith training example of A_prev, channel c. (≈1 line)\n",
        "                    a_slice_prev = a_prev_slice[vert_start:vert_end,horiz_start:horiz_end,c]\n",
        "\n",
        "                    # Compute the pooling operation on the slice.\n",
        "                    # Use an if statement to differentiate the modes.\n",
        "                    # Use np.max and np.mean.\n",
        "                    if mode == \"max\":\n",
        "                        A[i, h, w, c] = np.max(a_slice_prev)\n",
        "                    elif mode == \"average\":\n",
        "                        A[i, h, w, c] = np.mean(a_slice_prev)\n",
        "                    else:\n",
        "                        print(mode+ \"-type pooling layer NOT Defined\")\n",
        "    # YOUR CODE ENDS HERE\n",
        "\n",
        "    # Store the input and hparameters in \"cache\" for pool_backward()\n",
        "    cache = (A_prev, hparameters)\n",
        "\n",
        "    # Making sure your output shape is correct\n",
        "    assert(A.shape == (m, n_H, n_W, n_C))\n",
        "\n",
        "    return A, cache\n",
        "# Case 1: stride of 1\n",
        "np.random.seed(1)\n",
        "A_prev = np.random.randn(2, 5, 5, 3)\n",
        "hparameters = {\"stride\" : 1, \"f\": 3}\n",
        "\n",
        "A, cache = pool_forward(A_prev, hparameters, mode = \"max\")\n",
        "print(\"mode = max\")\n",
        "print(\"A.shape = \" + str(A.shape))\n",
        "print(\"A[1, 1] =\\n\", A[1, 1])\n",
        "print()\n",
        "A, cache = pool_forward(A_prev, hparameters, mode = \"average\")\n",
        "print(\"mode = average\")\n",
        "print(\"A.shape = \" + str(A.shape))\n",
        "print(\"A[1, 1] =\\n\", A[1, 1])\n",
        "\n",
        "pool_forward_test(pool_forward)"
      ],
      "metadata": {
        "colab": {
          "base_uri": "https://localhost:8080/"
        },
        "id": "l59X86FR4kF_",
        "outputId": "427005eb-e27c-49b4-9619-0d3855a6676d"
      },
      "execution_count": 21,
      "outputs": [
        {
          "output_type": "stream",
          "name": "stdout",
          "text": [
            "mode = max\n",
            "A.shape = (2, 3, 3, 3)\n",
            "A[1, 1] =\n",
            " [[1.96710175 0.84616065 1.27375593]\n",
            " [1.96710175 0.84616065 1.23616403]\n",
            " [1.62765075 1.12141771 1.2245077 ]]\n",
            "\n",
            "mode = average\n",
            "A.shape = (2, 3, 3, 3)\n",
            "A[1, 1] =\n",
            " [[ 0.44497696 -0.00261695 -0.31040307]\n",
            " [ 0.50811474 -0.23493734 -0.23961183]\n",
            " [ 0.11872677  0.17255229 -0.22112197]]\n",
            "\u001b[92m All tests passed.\n"
          ]
        }
      ]
    },
    {
      "cell_type": "code",
      "source": [
        "# Case 2: stride of 2\n",
        "np.random.seed(1)\n",
        "A_prev = np.random.randn(2, 5, 5, 3)\n",
        "hparameters = {\"stride\" : 2, \"f\": 3}\n",
        "\n",
        "A, cache = pool_forward(A_prev, hparameters)\n",
        "print(\"mode = max\")\n",
        "print(\"A.shape = \" + str(A.shape))\n",
        "print(\"A[0] =\\n\", A[0])\n",
        "print()\n",
        "\n",
        "A, cache = pool_forward(A_prev, hparameters, mode = \"average\")\n",
        "print(\"mode = average\")\n",
        "print(\"A.shape = \" + str(A.shape))\n",
        "print(\"A[1] =\\n\", A[1])"
      ],
      "metadata": {
        "colab": {
          "base_uri": "https://localhost:8080/"
        },
        "id": "emgw7cdx472A",
        "outputId": "dd0932e1-f2da-494b-f2cf-cb07f529f9f0"
      },
      "execution_count": 22,
      "outputs": [
        {
          "output_type": "stream",
          "name": "stdout",
          "text": [
            "mode = max\n",
            "A.shape = (2, 2, 2, 3)\n",
            "A[0] =\n",
            " [[[1.74481176 0.90159072 1.65980218]\n",
            "  [1.74481176 1.6924546  1.65980218]]\n",
            "\n",
            " [[1.13162939 1.51981682 2.18557541]\n",
            "  [1.13162939 1.6924546  2.18557541]]]\n",
            "\n",
            "mode = average\n",
            "A.shape = (2, 2, 2, 3)\n",
            "A[1] =\n",
            " [[[-0.17313416  0.32377198 -0.34317572]\n",
            "  [ 0.02030094  0.14141479 -0.01231585]]\n",
            "\n",
            " [[ 0.42944926  0.08446996 -0.27290905]\n",
            "  [ 0.15077452  0.28911175  0.00123239]]]\n"
          ]
        }
      ]
    },
    {
      "cell_type": "code",
      "source": [
        "def conv_backward(dZ, cache):\n",
        "    \"\"\"\n",
        "    Implement the backward propagation for a convolution function\n",
        "\n",
        "    Arguments:\n",
        "    dZ -- gradient of the cost with respect to the output of the conv layer (Z), numpy array of shape (m, n_H, n_W, n_C)\n",
        "    cache -- cache of values needed for the conv_backward(), output of conv_forward()\n",
        "\n",
        "    Returns:\n",
        "    dA_prev -- gradient of the cost with respect to the input of the conv layer (A_prev),\n",
        "               numpy array of shape (m, n_H_prev, n_W_prev, n_C_prev)\n",
        "    dW -- gradient of the cost with respect to the weights of the conv layer (W)\n",
        "          numpy array of shape (f, f, n_C_prev, n_C)\n",
        "    db -- gradient of the cost with respect to the biases of the conv layer (b)\n",
        "          numpy array of shape (1, 1, 1, n_C)\n",
        "    \"\"\"\n",
        "\n",
        "\n",
        "    # Retrieve information from \"cache\"\n",
        "    (A_prev, W, b, hparameters) = cache\n",
        "    # Retrieve dimensions from A_prev's shape\n",
        "    (m, n_H_prev, n_W_prev, n_C_prev) = A_prev.shape\n",
        "    # Retrieve dimensions from W's shape\n",
        "    (f, f, n_C_prev, n_C) = W.shape\n",
        "\n",
        "    # Retrieve information from \"hparameters\"\n",
        "    stride = hparameters[\"stride\"]\n",
        "    pad = hparameters[\"pad\"]\n",
        "\n",
        "    # Retrieve dimensions from dZ's shape\n",
        "    (m, n_H, n_W, n_C) = dZ.shape\n",
        "\n",
        "    # Initialize dA_prev, dW, db with the correct shapes\n",
        "    dA_prev = np.zeros(A_prev.shape)\n",
        "    dW = np.zeros(W.shape)\n",
        "    db = np.zeros(b.shape) # b.shape = [1,1,1,n_C]\n",
        "\n",
        "    # Pad A_prev and dA_prev\n",
        "    A_prev_pad = zero_pad(A_prev, pad)\n",
        "    dA_prev_pad = zero_pad(dA_prev, pad)\n",
        "\n",
        "    for i in range(m):                       # loop over the training examples\n",
        "\n",
        "        # select ith training example from A_prev_pad and dA_prev_pad\n",
        "        a_prev_pad = A_prev_pad[i]\n",
        "        da_prev_pad = dA_prev_pad[i]\n",
        "\n",
        "        for h in range(n_H):                   # loop over vertical axis of the output volume\n",
        "            for w in range(n_W):               # loop over horizontal axis of the output volume\n",
        "                for c in range(n_C):           # loop over the channels of the output volume\n",
        "\n",
        "                    # Find the corners of the current \"slice\"\n",
        "                    vert_start = stride * h\n",
        "                    vert_end = vert_start + f\n",
        "                    horiz_start = stride * w\n",
        "                    horiz_end = horiz_start + f\n",
        "\n",
        "                    # Use the corners to define the slice from a_prev_pad\n",
        "                    a_slice = a_prev_pad[vert_start:vert_end,horiz_start:horiz_end,:]\n",
        "\n",
        "                    # Update gradients for the window and the filter's parameters using the code formulas given above\n",
        "                    da_prev_pad[vert_start:vert_end, horiz_start:horiz_end, :] += W[:,:,:,c] * dZ[i, h, w, c]\n",
        "                    dW[:,:,:,c] += a_slice * dZ[i, h, w, c]\n",
        "                    db[:,:,:,c] += dZ[i, h, w, c]\n",
        "\n",
        "        # Set the ith training example's dA_prev to the unpadded da_prev_pad (Hint: use X[pad:-pad, pad:-pad, :])\n",
        "        dA_prev[i, :, :, :] = da_prev_pad[pad:-pad, pad:-pad, :]\n",
        "\n",
        "    # Making sure your output shape is correct\n",
        "    assert(dA_prev.shape == (m, n_H_prev, n_W_prev, n_C_prev))\n",
        "\n",
        "    return dA_prev, dW, db\n",
        "# We'll run conv_forward to initialize the 'Z' and 'cache_conv\",\n",
        "# which we'll use to test the conv_backward function\n",
        "np.random.seed(1)\n",
        "A_prev = np.random.randn(10, 4, 4, 3)\n",
        "W = np.random.randn(2, 2, 3, 8)\n",
        "b = np.random.randn(1, 1, 1, 8)\n",
        "hparameters = {\"pad\" : 2,\n",
        "               \"stride\": 2}\n",
        "Z, cache_conv = conv_forward(A_prev, W, b, hparameters)\n",
        "\n",
        "# Test conv_backward\n",
        "dA, dW, db = conv_backward(Z, cache_conv)\n",
        "\n",
        "print(\"dA_mean =\", np.mean(dA))\n",
        "print(\"dW_mean =\", np.mean(dW))\n",
        "print(\"db_mean =\", np.mean(db))\n",
        "\n",
        "assert type(dA) == np.ndarray, \"Output must be a np.ndarray\"\n",
        "assert type(dW) == np.ndarray, \"Output must be a np.ndarray\"\n",
        "assert type(db) == np.ndarray, \"Output must be a np.ndarray\"\n",
        "assert dA.shape == (10, 4, 4, 3), f\"Wrong shape for dA  {dA.shape} != (10, 4, 4, 3)\"\n",
        "assert dW.shape == (2, 2, 3, 8), f\"Wrong shape for dW {dW.shape} != (2, 2, 3, 8)\"\n",
        "assert db.shape == (1, 1, 1, 8), f\"Wrong shape for db {db.shape} != (1, 1, 1, 8)\"\n",
        "assert np.isclose(np.mean(dA), 1.4524377), \"Wrong values for dA\"\n",
        "assert np.isclose(np.mean(dW), 1.7269914), \"Wrong values for dW\"\n",
        "assert np.isclose(np.mean(db), 7.8392325), \"Wrong values for db\"\n",
        "\n",
        "print(\"\\033[92m All tests passed.\")"
      ],
      "metadata": {
        "colab": {
          "base_uri": "https://localhost:8080/"
        },
        "id": "m_51Pn7W5D2Q",
        "outputId": "52e8907c-c0b6-4e3d-cc22-6907a7087e0b"
      },
      "execution_count": 23,
      "outputs": [
        {
          "output_type": "stream",
          "name": "stdout",
          "text": [
            "dA_mean = 1.4524377775388075\n",
            "dW_mean = 1.7269914583139097\n",
            "db_mean = 7.839232564616838\n",
            "\u001b[92m All tests passed.\n"
          ]
        }
      ]
    },
    {
      "cell_type": "code",
      "source": [
        "def create_mask_from_window_test(x):\n",
        "  mask = (x == np.max(x))\n",
        "  return mask\n"
      ],
      "metadata": {
        "id": "p2XLVs3v5Nao"
      },
      "execution_count": 24,
      "outputs": []
    },
    {
      "cell_type": "code",
      "source": [
        "np.random.seed(1)\n",
        "x = np.random.randn(2, 3)\n",
        "mask = create_mask_from_window_test(x)\n",
        "print('x = ', x)\n",
        "print(\"mask = \", mask)\n",
        "\n",
        "x = np.array([[-1, 2, 3],\n",
        "              [2, -3, 2],\n",
        "              [1, 5, -2]])\n",
        "\n",
        "y = np.array([[False, False, False],\n",
        "     [False, False, False],\n",
        "     [False, True, False]])\n",
        "mask = create_mask_from_window_test(x)\n",
        "\n",
        "assert type(mask) == np.ndarray, \"Output must be a np.ndarray\"\n",
        "assert mask.shape == x.shape, \"Input and output shapes must match\"\n",
        "assert np.allclose(mask, y), \"Wrong output. The True value must be at position (2, 1)\"\n",
        "\n",
        "print(\"\\033[92m All tests passed.\")"
      ],
      "metadata": {
        "colab": {
          "base_uri": "https://localhost:8080/"
        },
        "id": "-fPWR9IB5VNE",
        "outputId": "6fd848ff-775a-4666-8c43-7d5387c4efed"
      },
      "execution_count": 27,
      "outputs": [
        {
          "output_type": "stream",
          "name": "stdout",
          "text": [
            "x =  [[ 1.62434536 -0.61175641 -0.52817175]\n",
            " [-1.07296862  0.86540763 -2.3015387 ]]\n",
            "mask =  [[ True False False]\n",
            " [False False False]]\n",
            "\u001b[92m All tests passed.\n"
          ]
        }
      ]
    },
    {
      "cell_type": "code",
      "source": [
        "def distribute_value(dz, shape):\n",
        "    (n_H, n_W) = shape\n",
        "    average = np.prod(shape)\n",
        "    a = (dz/average)*np.ones(shape)\n",
        "    return a"
      ],
      "metadata": {
        "id": "mhN3i4vq5rRM"
      },
      "execution_count": 29,
      "outputs": []
    },
    {
      "cell_type": "code",
      "source": [
        "a = distribute_value(2, (2, 2))\n",
        "print('distributed value =', a)\n",
        "\n",
        "\n",
        "assert type(a) == np.ndarray, \"Output must be a np.ndarray\"\n",
        "assert a.shape == (2, 2), f\"Wrong shape {a.shape} != (2, 2)\"\n",
        "assert np.sum(a) == 2, \"Values must sum to 2\"\n",
        "\n",
        "a = distribute_value(100, (10, 10))\n",
        "assert type(a) == np.ndarray, \"Output must be a np.ndarray\"\n",
        "assert a.shape == (10, 10), f\"Wrong shape {a.shape} != (10, 10)\"\n",
        "assert np.sum(a) == 100, \"Values must sum to 100\"\n",
        "\n",
        "print(\"\\033[92m All tests passed.\")"
      ],
      "metadata": {
        "colab": {
          "base_uri": "https://localhost:8080/"
        },
        "id": "SuG_tybw5zjD",
        "outputId": "453c10ca-b70d-47f8-bab6-af5d2255f17b"
      },
      "execution_count": 30,
      "outputs": [
        {
          "output_type": "stream",
          "name": "stdout",
          "text": [
            "distributed value = [[0.5 0.5]\n",
            " [0.5 0.5]]\n",
            "\u001b[92m All tests passed.\n"
          ]
        }
      ]
    },
    {
      "cell_type": "code",
      "source": [
        "def pool_backward(dA, cache, mode = \"max\"):\n",
        "    \"\"\"\n",
        "    Implements the backward pass of the pooling layer\n",
        "\n",
        "    Arguments:\n",
        "    dA -- gradient of cost with respect to the output of the pooling layer, same shape as A\n",
        "    cache -- cache output from the forward pass of the pooling layer, contains the layer's input and hparameters\n",
        "    mode -- the pooling mode you would like to use, defined as a string (\"max\" or \"average\")\n",
        "\n",
        "    Returns:\n",
        "    dA_prev -- gradient of cost with respect to the input of the pooling layer, same shape as A_prev\n",
        "    \"\"\"\n",
        "    # Retrieve information from cache (≈1 line)\n",
        "    (A_prev, hparameters) = cache\n",
        "\n",
        "    # Retrieve hyperparameters from \"hparameters\" (≈2 lines)\n",
        "    stride = hparameters[\"stride\"]\n",
        "    f = hparameters[\"f\"]\n",
        "\n",
        "    # Retrieve dimensions from A_prev's shape and dA's shape (≈2 lines)\n",
        "    m, n_H_prev, n_W_prev, n_C_prev = A_prev.shape\n",
        "    m, n_H, n_W, n_C = dA.shape\n",
        "\n",
        "    # Initialize dA_prev with zeros (≈1 line)\n",
        "    dA_prev = np.zeros(A_prev.shape)\n",
        "\n",
        "    for i in range(m): # loop over the training examples\n",
        "\n",
        "        # select training example from A_prev (≈1 line)\n",
        "        a_prev = A_prev[i,:,:,:]\n",
        "\n",
        "        for h in range(n_H):                   # loop on the vertical axis\n",
        "            for w in range(n_W):               # loop on the horizontal axis\n",
        "                for c in range(n_C):           # loop over the channels (depth)\n",
        "\n",
        "                    # Find the corners of the current \"slice\" (≈4 lines)\n",
        "                    vert_start  = h * stride\n",
        "                    vert_end    = h * stride + f\n",
        "                    horiz_start = w * stride\n",
        "                    horiz_end   = w * stride + f\n",
        "\n",
        "                    # Compute the backward propagation in both modes.\n",
        "                    if mode == \"max\":\n",
        "\n",
        "                        # Use the corners and \"c\" to define the current slice from a_prev (≈1 line)\n",
        "                        a_prev_slice = a_prev[ vert_start:vert_end, horiz_start:horiz_end, c ]\n",
        "\n",
        "                        # Create the mask from a_prev_slice (≈1 line)\n",
        "                        mask = create_mask_from_window_test( a_prev_slice )\n",
        "\n",
        "                        # Set dA_prev to be dA_prev + (the mask multiplied by the correct entry of dA) (≈1 line)\n",
        "                        dA_prev[i, vert_start:vert_end, horiz_start:horiz_end, c] += mask * dA[i, h, w, c]\n",
        "\n",
        "                    elif mode == \"average\":\n",
        "\n",
        "                        # Get the value da from dA (≈2 line)\n",
        "                        da = dA[i, h, w, c]\n",
        "\n",
        "                        # Define the shape of the filter as fxf (≈1 line)\n",
        "                        shape = (f,f)\n",
        "\n",
        "                        # Distribute it to get the correct slice of dA_prev. i.e. Add the distributed value of da. (≈1 line)\n",
        "                        dA_prev[i, vert_start: vert_end, horiz_start: horiz_end, c] += distribute_value(da, shape)\n",
        "\n",
        "    # Making sure your output shape is correct\n",
        "    assert(dA_prev.shape == A_prev.shape)\n",
        "\n",
        "    return dA_prev\n",
        "np.random.seed(1)\n",
        "A_prev = np.random.randn(5, 5, 3, 2)\n",
        "hparameters = {\"stride\" : 1, \"f\": 2}\n",
        "A, cache = pool_forward(A_prev, hparameters)\n",
        "print(A.shape)\n",
        "print(cache[0].shape)\n",
        "dA = np.random.randn(5, 4, 2, 2)\n",
        "\n",
        "dA_prev1 = pool_backward(dA, cache, mode = \"max\")\n",
        "print(\"mode = max\")\n",
        "print('mean of dA = ', np.mean(dA))\n",
        "print('dA_prev1[1,1] = ', dA_prev1[1, 1])\n",
        "print()\n",
        "dA_prev2 = pool_backward(dA, cache, mode = \"average\")\n",
        "print(\"mode = average\")\n",
        "print('mean of dA = ', np.mean(dA))\n",
        "print('dA_prev2[1,1] = ', dA_prev2[1, 1])\n",
        "\n",
        "assert type(dA_prev1) == np.ndarray, \"Wrong type\"\n",
        "assert dA_prev1.shape == (5, 5, 3, 2), f\"Wrong shape {dA_prev1.shape} != (5, 5, 3, 2)\"\n",
        "assert np.allclose(dA_prev1[1, 1], [[0, 0],\n",
        "                                    [ 5.05844394, -1.68282702],\n",
        "                                    [ 0, 0]]), \"Wrong values for mode max\"\n",
        "assert np.allclose(dA_prev2[1, 1], [[0.08485462,  0.2787552],\n",
        "                                    [1.26461098, -0.25749373],\n",
        "                                    [1.17975636, -0.53624893]]), \"Wrong values for mode average\"\n",
        "print(\"\\033[92m All tests passed.\")"
      ],
      "metadata": {
        "colab": {
          "base_uri": "https://localhost:8080/"
        },
        "id": "uZ7b_gAh52Qe",
        "outputId": "53636a8e-5a9d-4e2f-de1e-5e421bd4d2c0"
      },
      "execution_count": 32,
      "outputs": [
        {
          "output_type": "stream",
          "name": "stdout",
          "text": [
            "(5, 4, 2, 2)\n",
            "(5, 5, 3, 2)\n",
            "mode = max\n",
            "mean of dA =  0.14571390272918056\n",
            "dA_prev1[1,1] =  [[ 0.          0.        ]\n",
            " [ 5.05844394 -1.68282702]\n",
            " [ 0.          0.        ]]\n",
            "\n",
            "mode = average\n",
            "mean of dA =  0.14571390272918056\n",
            "dA_prev2[1,1] =  [[ 0.08485462  0.2787552 ]\n",
            " [ 1.26461098 -0.25749373]\n",
            " [ 1.17975636 -0.53624893]]\n",
            "\u001b[92m All tests passed.\n"
          ]
        }
      ]
    }
  ]
}