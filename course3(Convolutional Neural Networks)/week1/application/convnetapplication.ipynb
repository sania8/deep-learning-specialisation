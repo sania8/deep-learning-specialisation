{
  "nbformat": 4,
  "nbformat_minor": 0,
  "metadata": {
    "colab": {
      "provenance": []
    },
    "kernelspec": {
      "name": "python3",
      "display_name": "Python 3"
    },
    "language_info": {
      "name": "python"
    }
  },
  "cells": [
    {
      "cell_type": "code",
      "execution_count": 4,
      "metadata": {
        "colab": {
          "base_uri": "https://localhost:8080/"
        },
        "id": "pOvldZWwQ0D1",
        "outputId": "01582667-703c-46c9-e1fc-89d12376600c"
      },
      "outputs": [
        {
          "output_type": "stream",
          "name": "stdout",
          "text": [
            "/content/drive/MyDrive/Desktop/PythonP/week1/application\n"
          ]
        }
      ],
      "source": [
        "%cd \"/content/drive/MyDrive/Desktop/PythonP/week1/application\""
      ]
    },
    {
      "cell_type": "code",
      "source": [
        "from google.colab import drive\n",
        "drive.mount('/content/drive')"
      ],
      "metadata": {
        "colab": {
          "base_uri": "https://localhost:8080/"
        },
        "id": "mimCql5rRAt0",
        "outputId": "b23d1207-c43b-4f1f-cbec-dcf21f1c1a4c"
      },
      "execution_count": 3,
      "outputs": [
        {
          "output_type": "stream",
          "name": "stdout",
          "text": [
            "Drive already mounted at /content/drive; to attempt to forcibly remount, call drive.mount(\"/content/drive\", force_remount=True).\n"
          ]
        }
      ]
    },
    {
      "cell_type": "code",
      "source": [
        "# import all the packages\n",
        "import math\n",
        "import numpy as np\n",
        "import h5py\n",
        "import matplotlib.pyplot as plt\n",
        "from matplotlib.pyplot import imread\n",
        "import scipy\n",
        "from PIL import Image\n",
        "import pandas as pd\n",
        "import tensorflow as tf\n",
        "import tensorflow.keras.layers as tfl\n",
        "from tensorflow.python.framework import ops\n",
        "from cnn_utils import *\n",
        "from test_utils import summary, comparator\n",
        "\n",
        "%matplotlib inline\n",
        "np.random.seed(1)"
      ],
      "metadata": {
        "id": "M9XN1yDGTeGu"
      },
      "execution_count": 5,
      "outputs": []
    },
    {
      "cell_type": "markdown",
      "source": [
        "Load the data set and split the data set into training set and testing set"
      ],
      "metadata": {
        "id": "RXIiAvyRT2C_"
      }
    },
    {
      "cell_type": "code",
      "source": [
        "x_train , y_train , x_test , y_test , classes = load_happy_dataset()\n",
        "#normalizing images by dividing by 255\n",
        "x_train = x_train/255\n",
        "x_test = x_test/255\n",
        "#reshape the labels so that we can classify\n",
        "y_train = y_train.T\n",
        "y_test = y_test.T\n",
        "\n",
        "#printing the shapes\n",
        "print(\"Number of training exmaples:\" , str(x_train.shape[0]))\n",
        "print(\"Number of testing examples:\" , str(x_test.shape[0]))\n",
        "print(\"X_train shape:\" , str(x_train.shape))\n",
        "print(\"X_test shape\" , str(x_test.shape))\n",
        "print(\"training labels shape:\" , str(y_train.shape))\n",
        "print(\"testing labels shape:\" , str(y_test.shape))"
      ],
      "metadata": {
        "colab": {
          "base_uri": "https://localhost:8080/"
        },
        "id": "89av2d--T0IA",
        "outputId": "53d2df1c-cb5b-4f04-cf05-8953120bff7b"
      },
      "execution_count": 6,
      "outputs": [
        {
          "output_type": "stream",
          "name": "stdout",
          "text": [
            "Number of training exmaples: 600\n",
            "Number of testing examples: 150\n",
            "X_train shape: (600, 64, 64, 3)\n",
            "X_test shape (150, 64, 64, 3)\n",
            "training labels shape: (600, 1)\n",
            "testing labels shape: (150, 1)\n"
          ]
        }
      ]
    },
    {
      "cell_type": "code",
      "source": [
        "index = 10\n",
        "plt.imshow(x_train[index])\n",
        "plt.show()"
      ],
      "metadata": {
        "colab": {
          "base_uri": "https://localhost:8080/",
          "height": 432
        },
        "id": "A0fGP-wUZgWh",
        "outputId": "055a5207-5e66-49fe-eefd-b4516bd8f5f9"
      },
      "execution_count": 7,
      "outputs": [
        {
          "output_type": "display_data",
          "data": {
            "text/plain": [
              "<Figure size 640x480 with 1 Axes>"
            ],
            "image/png": "[encoded data removed]"
          },
          "metadata": {}
        }
      ]
    },
    {
      "cell_type": "markdown",
      "source": [
        "For the first part of this assignment, you'll create a model using TF Keras' Sequential API, which allows you to build layer by layer, and is ideal for building models where each layer has exactly one input tensor and one output tensor.\n",
        "\n",
        "As you'll see, using the Sequential API is simple and straightforward, but is only appropriate for simpler, more straightforward tasks. Later in this notebook you'll spend some time building with a more flexible, powerful alternative: the Functional API."
      ],
      "metadata": {
        "id": "qp3uMTC_Z84k"
      }
    },
    {
      "cell_type": "code",
      "source": [
        "# building of a happy model\n",
        "def happy_model():\n",
        "  model = tf.keras.Sequential([\n",
        "      tf.keras.Input(shape=(64,64,3)),\n",
        "      tfl.ZeroPadding2D(padding=3),\n",
        "      tfl.Conv2D(filters=32,kernel_size=7,strides=1),\n",
        "      tfl.BatchNormalization(axis=3, momentum=0.99, epsilon=0.001),\n",
        "      tfl.ReLU(),\n",
        "      tfl.MaxPool2D(),\n",
        "      tfl.Flatten(),\n",
        "      tfl.Dense(1,activation=\"sigmoid\")\n",
        "  ])\n",
        "  return model"
      ],
      "metadata": {
        "id": "z1UMdjluZsln"
      },
      "execution_count": 8,
      "outputs": []
    },
    {
      "cell_type": "code",
      "source": [
        "happy_model = happy_model()\n",
        "# Print a summary for each layer\n",
        "for layer in summary(happy_model):\n",
        "    print(layer)\n",
        "\n",
        "output = [['ZeroPadding2D', (None, 70, 70, 3), 0, ((3, 3), (3, 3))],\n",
        "            ['Conv2D', (None, 64, 64, 32), 4736, 'valid', 'linear', 'GlorotUniform'],\n",
        "            ['BatchNormalization', (None, 64, 64, 32), 128],\n",
        "            ['ReLU', (None, 64, 64, 32), 0],\n",
        "            ['MaxPooling2D', (None, 32, 32, 32), 0, (2, 2), (2, 2), 'valid'],\n",
        "            ['Flatten', (None, 32768), 0],\n",
        "            ['Dense', (None, 1), 32769, 'sigmoid']]\n",
        "\n",
        "comparator(summary(happy_model), output)"
      ],
      "metadata": {
        "colab": {
          "base_uri": "https://localhost:8080/"
        },
        "id": "ICkoRLpqbDnk",
        "outputId": "8bc7b785-8b92-4c30-d111-98c3694a15a1"
      },
      "execution_count": 9,
      "outputs": [
        {
          "output_type": "stream",
          "name": "stdout",
          "text": [
            "['ZeroPadding2D', (None, 70, 70, 3), 0, ((3, 3), (3, 3))]\n",
            "['Conv2D', (None, 64, 64, 32), 4736, 'valid', 'linear', 'GlorotUniform']\n",
            "['BatchNormalization', (None, 64, 64, 32), 128]\n",
            "['ReLU', (None, 64, 64, 32), 0]\n",
            "['MaxPooling2D', (None, 32, 32, 32), 0, (2, 2), (2, 2), 'valid']\n",
            "['Flatten', (None, 32768), 0]\n",
            "['Dense', (None, 1), 32769, 'sigmoid']\n",
            "All tests passed!\n"
          ]
        }
      ]
    },
    {
      "cell_type": "code",
      "source": [
        "happy_model.compile(optimizer='adam',\n",
        "                   loss='binary_crossentropy',\n",
        "                   metrics=['accuracy'])"
      ],
      "metadata": {
        "id": "TSeqi8_Hb5jd"
      },
      "execution_count": 10,
      "outputs": []
    },
    {
      "cell_type": "code",
      "source": [
        "happy_model.summary()"
      ],
      "metadata": {
        "colab": {
          "base_uri": "https://localhost:8080/"
        },
        "id": "1Xv-0Br5b71Y",
        "outputId": "9d80e5f5-bee9-4ecb-d768-4dc477244302"
      },
      "execution_count": 11,
      "outputs": [
        {
          "output_type": "stream",
          "name": "stdout",
          "text": [
            "Model: \"sequential\"\n",
            "_________________________________________________________________\n",
            " Layer (type)                Output Shape              Param #   \n",
            "=================================================================\n",
            " zero_padding2d (ZeroPaddin  (None, 70, 70, 3)         0         \n",
            " g2D)                                                            \n",
            "                                                                 \n",
            " conv2d (Conv2D)             (None, 64, 64, 32)        4736      \n",
            "                                                                 \n",
            " batch_normalization (Batch  (None, 64, 64, 32)        128       \n",
            " Normalization)                                                  \n",
            "                                                                 \n",
            " re_lu (ReLU)                (None, 64, 64, 32)        0         \n",
            "                                                                 \n",
            " max_pooling2d (MaxPooling2  (None, 32, 32, 32)        0         \n",
            " D)                                                              \n",
            "                                                                 \n",
            " flatten (Flatten)           (None, 32768)             0         \n",
            "                                                                 \n",
            " dense (Dense)               (None, 1)                 32769     \n",
            "                                                                 \n",
            "=================================================================\n",
            "Total params: 37633 (147.00 KB)\n",
            "Trainable params: 37569 (146.75 KB)\n",
            "Non-trainable params: 64 (256.00 Byte)\n",
            "_________________________________________________________________\n"
          ]
        }
      ]
    },
    {
      "cell_type": "markdown",
      "source": [
        "Trainging and evaluating model"
      ],
      "metadata": {
        "id": "dy3zc3fkcCGX"
      }
    },
    {
      "cell_type": "code",
      "source": [
        "happy_model.fit(x_train, y_train, epochs=10, batch_size=30)"
      ],
      "metadata": {
        "colab": {
          "base_uri": "https://localhost:8080/"
        },
        "id": "2zV73xVEcELe",
        "outputId": "bbf51873-8334-4899-adc8-b222e8146fd3"
      },
      "execution_count": 12,
      "outputs": [
        {
          "output_type": "stream",
          "name": "stdout",
          "text": [
            "Epoch 1/10\n",
            "20/20 [==============================] - 6s 271ms/step - loss: 2.9560 - accuracy: 0.5333\n",
            "Epoch 2/10\n",
            "20/20 [==============================] - 4s 171ms/step - loss: 0.4602 - accuracy: 0.8350\n",
            "Epoch 3/10\n",
            "20/20 [==============================] - 3s 158ms/step - loss: 0.1938 - accuracy: 0.9167\n",
            "Epoch 4/10\n",
            "20/20 [==============================] - 3s 161ms/step - loss: 0.1796 - accuracy: 0.9383\n",
            "Epoch 5/10\n",
            "20/20 [==============================] - 5s 236ms/step - loss: 0.2280 - accuracy: 0.8933\n",
            "Epoch 6/10\n",
            "20/20 [==============================] - 4s 212ms/step - loss: 0.1047 - accuracy: 0.9617\n",
            "Epoch 7/10\n",
            "20/20 [==============================] - 3s 158ms/step - loss: 0.0920 - accuracy: 0.9700\n",
            "Epoch 8/10\n",
            "20/20 [==============================] - 3s 159ms/step - loss: 0.0687 - accuracy: 0.9833\n",
            "Epoch 9/10\n",
            "20/20 [==============================] - 4s 212ms/step - loss: 0.0642 - accuracy: 0.9833\n",
            "Epoch 10/10\n",
            "20/20 [==============================] - 4s 223ms/step - loss: 0.0577 - accuracy: 0.9883\n"
          ]
        },
        {
          "output_type": "execute_result",
          "data": {
            "text/plain": [
              "<keras.src.callbacks.History at 0x7a34de5c2e00>"
            ]
          },
          "metadata": {},
          "execution_count": 12
        }
      ]
    },
    {
      "cell_type": "markdown",
      "source": [
        "lets test it by passing testing data"
      ],
      "metadata": {
        "id": "CyygNFoacTBn"
      }
    },
    {
      "cell_type": "code",
      "source": [
        "happy_model.evaluate(x_test , y_test)"
      ],
      "metadata": {
        "colab": {
          "base_uri": "https://localhost:8080/"
        },
        "id": "nAAQMz0acWGl",
        "outputId": "acd1996e-6ce4-42ad-e6e8-7f78058176a5"
      },
      "execution_count": 13,
      "outputs": [
        {
          "output_type": "stream",
          "name": "stdout",
          "text": [
            "5/5 [==============================] - 0s 75ms/step - loss: 0.2738 - accuracy: 0.8933\n"
          ]
        },
        {
          "output_type": "execute_result",
          "data": {
            "text/plain": [
              "[0.2738315165042877, 0.8933333158493042]"
            ]
          },
          "metadata": {},
          "execution_count": 13
        }
      ]
    },
    {
      "cell_type": "markdown",
      "source": [
        "The Functional API\n",
        "Welcome to the second half of the assignment, where you'll use Keras' flexible Functional API to build a ConvNet that can differentiate between 6 sign language digits.\n",
        "\n",
        "The Functional API can handle models with non-linear topology, shared layers, as well as layers with multiple inputs or outputs. Imagine that, where the Sequential API requires the model to move in a linear fashion through its layers, the Functional API allows much more flexibility. Where Sequential is a straight line, a Functional model is a graph, where the nodes of the layers can connect in many more ways than one.\n",
        "\n",
        "In the visual example below, the one possible direction of the movement Sequential model is shown in contrast to a skip connection, which is just one of the many ways a Functional model can be constructed. A skip connection, as you might have guessed, skips some layer in the network and feeds the output to a later layer in the network. Don't worry, you'll be spending more time with skip connections very soon!"
      ],
      "metadata": {
        "id": "2VmORwe1cr_m"
      }
    },
    {
      "cell_type": "markdown",
      "source": [
        "Lets load the sign data set now"
      ],
      "metadata": {
        "id": "_cKUj6kzc8HL"
      }
    },
    {
      "cell_type": "code",
      "source": [
        "# Loading the data (signs)\n",
        "x_train,y_train, x_test, y_test, classes = load_signs_dataset()"
      ],
      "metadata": {
        "id": "JvnVXDPacrny"
      },
      "execution_count": 14,
      "outputs": []
    },
    {
      "cell_type": "code",
      "source": [
        "# Example of an image from the dataset\n",
        "index = 9\n",
        "plt.imshow(x_train[index])\n",
        "plt.show()\n",
        "print (\"y = \" + str(np.squeeze(y_train[:, index])))"
      ],
      "metadata": {
        "colab": {
          "base_uri": "https://localhost:8080/",
          "height": 449
        },
        "id": "A_YXbceqdJR-",
        "outputId": "95654d1f-37e8-4b85-9133-38eeb938e29b"
      },
      "execution_count": 15,
      "outputs": [
        {
          "output_type": "display_data",
          "data": {
            "text/plain": [
              "<Figure size 640x480 with 1 Axes>"
            ],
            "image/png": "[encoded data removed]"
          },
          "metadata": {}
        },
        {
          "output_type": "stream",
          "name": "stdout",
          "text": [
            "y = 4\n"
          ]
        }
      ]
    },
    {
      "cell_type": "code",
      "source": [
        "x_train = x_train/255.\n",
        "x_test = x_test/255.\n",
        "y_train = convert_to_one_hot(y_train, 6).T\n",
        "y_test = convert_to_one_hot(y_test, 6).T\n",
        "print (\"number of training examples = \" + str(x_train.shape[0]))\n",
        "print (\"number of test examples = \" + str(x_test.shape[0]))\n",
        "print (\"X_train shape: \" + str(x_train.shape))\n",
        "print (\"Y_train shape: \" + str(y_train.shape))\n",
        "print (\"X_test shape: \" + str(x_test.shape))\n",
        "print (\"Y_test shape: \" + str(y_test.shape))"
      ],
      "metadata": {
        "colab": {
          "base_uri": "https://localhost:8080/"
        },
        "id": "nl3xW0HDdQpn",
        "outputId": "a95c1bb4-955c-4024-f932-363d4c589f14"
      },
      "execution_count": 16,
      "outputs": [
        {
          "output_type": "stream",
          "name": "stdout",
          "text": [
            "number of training examples = 1080\n",
            "number of test examples = 120\n",
            "X_train shape: (1080, 64, 64, 3)\n",
            "Y_train shape: (1080, 6)\n",
            "X_test shape: (120, 64, 64, 3)\n",
            "Y_test shape: (120, 6)\n"
          ]
        }
      ]
    },
    {
      "cell_type": "code",
      "source": [
        "#forward propagation\n",
        "def convolutional_model(input_shape):\n",
        "  input_img = tf.keras.Input(shape=input_shape)\n",
        "  Z1 = tfl.Conv2D(filters= 8. , kernel_size=4 , padding='same',strides=1)(input_img)\n",
        "  A1 = tfl.ReLU()(Z1)\n",
        "  P1 = tf.keras.layers.MaxPool2D(pool_size=8, strides=8, padding='SAME')(A1)\n",
        "  Z2 = tfl.Conv2D(filters= 16. , kernel_size=2 , padding='same',strides=1)(P1)\n",
        "  A2 = tfl.ReLU()(Z2)\n",
        "  P2 = tf.keras.layers.MaxPool2D(pool_size=4, strides=4, padding='SAME')(A2)\n",
        "  f = tfl.Flatten()(P2)\n",
        "  outputs = tfl.Dense(units= 6 , activation='softmax')(f)\n",
        "  model = tf.keras.Model(inputs=input_img, outputs=outputs)\n",
        "  return model\n"
      ],
      "metadata": {
        "id": "K1_T0QXaeF1A"
      },
      "execution_count": 17,
      "outputs": []
    },
    {
      "cell_type": "code",
      "source": [
        "conv_model = convolutional_model((64, 64, 3))\n",
        "conv_model.compile(optimizer='adam',\n",
        "                  loss='categorical_crossentropy',\n",
        "                  metrics=['accuracy'])\n",
        "conv_model.summary()\n",
        "output = [['InputLayer', [(None, 64, 64, 3)], 0],\n",
        "        ['Conv2D', (None, 64, 64, 8), 392, 'same', 'linear', 'GlorotUniform'],\n",
        "        ['ReLU', (None, 64, 64, 8), 0],\n",
        "        ['MaxPooling2D', (None, 8, 8, 8), 0, (8, 8), (8, 8), 'same'],\n",
        "        ['Conv2D', (None, 8, 8, 16), 528, 'same', 'linear', 'GlorotUniform'],\n",
        "        ['ReLU', (None, 8, 8, 16), 0],\n",
        "        ['MaxPooling2D', (None, 2, 2, 16), 0, (4, 4), (4, 4), 'same'],\n",
        "        ['Flatten', (None, 64), 0],\n",
        "        ['Dense', (None, 6), 390, 'softmax']]\n",
        "\n",
        "comparator(summary(conv_model), output)"
      ],
      "metadata": {
        "colab": {
          "base_uri": "https://localhost:8080/"
        },
        "id": "ujyNyYMsfSm1",
        "outputId": "7b5997df-ef83-46e1-9748-19880208080d"
      },
      "execution_count": 18,
      "outputs": [
        {
          "output_type": "stream",
          "name": "stdout",
          "text": [
            "Model: \"model\"\n",
            "_________________________________________________________________\n",
            " Layer (type)                Output Shape              Param #   \n",
            "=================================================================\n",
            " input_2 (InputLayer)        [(None, 64, 64, 3)]       0         \n",
            "                                                                 \n",
            " conv2d_1 (Conv2D)           (None, 64, 64, 8)         392       \n",
            "                                                                 \n",
            " re_lu_1 (ReLU)              (None, 64, 64, 8)         0         \n",
            "                                                                 \n",
            " max_pooling2d_1 (MaxPoolin  (None, 8, 8, 8)           0         \n",
            " g2D)                                                            \n",
            "                                                                 \n",
            " conv2d_2 (Conv2D)           (None, 8, 8, 16)          528       \n",
            "                                                                 \n",
            " re_lu_2 (ReLU)              (None, 8, 8, 16)          0         \n",
            "                                                                 \n",
            " max_pooling2d_2 (MaxPoolin  (None, 2, 2, 16)          0         \n",
            " g2D)                                                            \n",
            "                                                                 \n",
            " flatten_1 (Flatten)         (None, 64)                0         \n",
            "                                                                 \n",
            " dense_1 (Dense)             (None, 6)                 390       \n",
            "                                                                 \n",
            "=================================================================\n",
            "Total params: 1310 (5.12 KB)\n",
            "Trainable params: 1310 (5.12 KB)\n",
            "Non-trainable params: 0 (0.00 Byte)\n",
            "_________________________________________________________________\n",
            "All tests passed!\n"
          ]
        }
      ]
    },
    {
      "cell_type": "code",
      "source": [
        "train_dataset = tf.data.Dataset.from_tensor_slices((x_train, y_train)).batch(90)\n",
        "test_dataset = tf.data.Dataset.from_tensor_slices((x_test, y_test)).batch(90)\n",
        "history = conv_model.fit(x_train, y_train, epochs=150, batch_size=90)\n",
        "# save weights for the use in later predictions\n",
        "conv_model.save_weights('your_model_weights.h5')"
      ],
      "metadata": {
        "id": "6wPvi-dBfVjO",
        "colab": {
          "base_uri": "https://localhost:8080/"
        },
        "outputId": "55a6ffb5-ff7b-4690-8724-dcf3c89fcd8a"
      },
      "execution_count": 28,
      "outputs": [
        {
          "output_type": "stream",
          "name": "stdout",
          "text": [
            "Epoch 1/150\n",
            "12/12 [==============================] - 1s 114ms/step - loss: 0.3457 - accuracy: 0.8880\n",
            "Epoch 2/150\n",
            "12/12 [==============================] - 1s 113ms/step - loss: 0.3527 - accuracy: 0.8787\n",
            "Epoch 3/150\n",
            "12/12 [==============================] - 1s 111ms/step - loss: 0.3457 - accuracy: 0.8917\n",
            "Epoch 4/150\n",
            "12/12 [==============================] - 1s 110ms/step - loss: 0.3511 - accuracy: 0.8806\n",
            "Epoch 5/150\n",
            "12/12 [==============================] - 2s 134ms/step - loss: 0.3439 - accuracy: 0.8917\n",
            "Epoch 6/150\n",
            "12/12 [==============================] - 2s 191ms/step - loss: 0.3558 - accuracy: 0.8843\n",
            "Epoch 7/150\n",
            "12/12 [==============================] - 2s 194ms/step - loss: 0.3453 - accuracy: 0.8861\n",
            "Epoch 8/150\n",
            "12/12 [==============================] - 2s 173ms/step - loss: 0.3492 - accuracy: 0.8852\n",
            "Epoch 9/150\n",
            "12/12 [==============================] - 1s 112ms/step - loss: 0.3419 - accuracy: 0.8870\n",
            "Epoch 10/150\n",
            "12/12 [==============================] - 1s 111ms/step - loss: 0.3457 - accuracy: 0.8833\n",
            "Epoch 11/150\n",
            "12/12 [==============================] - 1s 116ms/step - loss: 0.3512 - accuracy: 0.8880\n",
            "Epoch 12/150\n",
            "12/12 [==============================] - 1s 111ms/step - loss: 0.3419 - accuracy: 0.8852\n",
            "Epoch 13/150\n",
            "12/12 [==============================] - 1s 111ms/step - loss: 0.3416 - accuracy: 0.8741\n",
            "Epoch 14/150\n",
            "12/12 [==============================] - 1s 112ms/step - loss: 0.3354 - accuracy: 0.8935\n",
            "Epoch 15/150\n",
            "12/12 [==============================] - 2s 154ms/step - loss: 0.3258 - accuracy: 0.8944\n",
            "Epoch 16/150\n",
            "12/12 [==============================] - 2s 188ms/step - loss: 0.3218 - accuracy: 0.9037\n",
            "Epoch 17/150\n",
            "12/12 [==============================] - 2s 192ms/step - loss: 0.3207 - accuracy: 0.8944\n",
            "Epoch 18/150\n",
            "12/12 [==============================] - 1s 112ms/step - loss: 0.3197 - accuracy: 0.8981\n",
            "Epoch 19/150\n",
            "12/12 [==============================] - 1s 112ms/step - loss: 0.3202 - accuracy: 0.8981\n",
            "Epoch 20/150\n",
            "12/12 [==============================] - 1s 112ms/step - loss: 0.3161 - accuracy: 0.8972\n",
            "Epoch 21/150\n",
            "12/12 [==============================] - 1s 111ms/step - loss: 0.3146 - accuracy: 0.9028\n",
            "Epoch 22/150\n",
            "12/12 [==============================] - 1s 111ms/step - loss: 0.3142 - accuracy: 0.9000\n",
            "Epoch 23/150\n",
            "12/12 [==============================] - 1s 111ms/step - loss: 0.3154 - accuracy: 0.9000\n",
            "Epoch 24/150\n",
            "12/12 [==============================] - 1s 111ms/step - loss: 0.3095 - accuracy: 0.9019\n",
            "Epoch 25/150\n",
            "12/12 [==============================] - 2s 142ms/step - loss: 0.3083 - accuracy: 0.9009\n",
            "Epoch 26/150\n",
            "12/12 [==============================] - 2s 187ms/step - loss: 0.3077 - accuracy: 0.8944\n",
            "Epoch 27/150\n",
            "12/12 [==============================] - 2s 195ms/step - loss: 0.3116 - accuracy: 0.8972\n",
            "Epoch 28/150\n",
            "12/12 [==============================] - 2s 125ms/step - loss: 0.3075 - accuracy: 0.9009\n",
            "Epoch 29/150\n",
            "12/12 [==============================] - 1s 112ms/step - loss: 0.3090 - accuracy: 0.9028\n",
            "Epoch 30/150\n",
            "12/12 [==============================] - 1s 113ms/step - loss: 0.3105 - accuracy: 0.8963\n",
            "Epoch 31/150\n",
            "12/12 [==============================] - 1s 110ms/step - loss: 0.3043 - accuracy: 0.9056\n",
            "Epoch 32/150\n",
            "12/12 [==============================] - 1s 110ms/step - loss: 0.3045 - accuracy: 0.8963\n",
            "Epoch 33/150\n",
            "12/12 [==============================] - 1s 111ms/step - loss: 0.2992 - accuracy: 0.8954\n",
            "Epoch 34/150\n",
            "12/12 [==============================] - 1s 111ms/step - loss: 0.2932 - accuracy: 0.9139\n",
            "Epoch 35/150\n",
            "12/12 [==============================] - 2s 132ms/step - loss: 0.2943 - accuracy: 0.9065\n",
            "Epoch 36/150\n",
            "12/12 [==============================] - 3s 230ms/step - loss: 0.2926 - accuracy: 0.9009\n",
            "Epoch 37/150\n",
            "12/12 [==============================] - 3s 273ms/step - loss: 0.2872 - accuracy: 0.9056\n",
            "Epoch 38/150\n",
            "12/12 [==============================] - 1s 116ms/step - loss: 0.2851 - accuracy: 0.9130\n",
            "Epoch 39/150\n",
            "12/12 [==============================] - 1s 111ms/step - loss: 0.2876 - accuracy: 0.9037\n",
            "Epoch 40/150\n",
            "12/12 [==============================] - 1s 111ms/step - loss: 0.2881 - accuracy: 0.9074\n",
            "Epoch 41/150\n",
            "12/12 [==============================] - 1s 110ms/step - loss: 0.2884 - accuracy: 0.8991\n",
            "Epoch 42/150\n",
            "12/12 [==============================] - 1s 111ms/step - loss: 0.2795 - accuracy: 0.9065\n",
            "Epoch 43/150\n",
            "12/12 [==============================] - 1s 111ms/step - loss: 0.2972 - accuracy: 0.9009\n",
            "Epoch 44/150\n",
            "12/12 [==============================] - 1s 112ms/step - loss: 0.2830 - accuracy: 0.9130\n",
            "Epoch 45/150\n",
            "12/12 [==============================] - 2s 176ms/step - loss: 0.2797 - accuracy: 0.9074\n",
            "Epoch 46/150\n",
            "12/12 [==============================] - 2s 191ms/step - loss: 0.2774 - accuracy: 0.9130\n",
            "Epoch 47/150\n",
            "12/12 [==============================] - 2s 182ms/step - loss: 0.2820 - accuracy: 0.9083\n",
            "Epoch 48/150\n",
            "12/12 [==============================] - 1s 111ms/step - loss: 0.2793 - accuracy: 0.9093\n",
            "Epoch 49/150\n",
            "12/12 [==============================] - 1s 112ms/step - loss: 0.2820 - accuracy: 0.9000\n",
            "Epoch 50/150\n",
            "12/12 [==============================] - 1s 111ms/step - loss: 0.2723 - accuracy: 0.9000\n",
            "Epoch 51/150\n",
            "12/12 [==============================] - 1s 112ms/step - loss: 0.2715 - accuracy: 0.9194\n",
            "Epoch 52/150\n",
            "12/12 [==============================] - 1s 111ms/step - loss: 0.2735 - accuracy: 0.9065\n",
            "Epoch 53/150\n",
            "12/12 [==============================] - 1s 111ms/step - loss: 0.2663 - accuracy: 0.9176\n",
            "Epoch 54/150\n",
            "12/12 [==============================] - 1s 112ms/step - loss: 0.2611 - accuracy: 0.9167\n",
            "Epoch 55/150\n",
            "12/12 [==============================] - 2s 165ms/step - loss: 0.2602 - accuracy: 0.9185\n",
            "Epoch 56/150\n",
            "12/12 [==============================] - 2s 194ms/step - loss: 0.2617 - accuracy: 0.9120\n",
            "Epoch 57/150\n",
            "12/12 [==============================] - 2s 189ms/step - loss: 0.2593 - accuracy: 0.9130\n",
            "Epoch 58/150\n",
            "12/12 [==============================] - 1s 111ms/step - loss: 0.2598 - accuracy: 0.9157\n",
            "Epoch 59/150\n",
            "12/12 [==============================] - 1s 111ms/step - loss: 0.2595 - accuracy: 0.9148\n",
            "Epoch 60/150\n",
            "12/12 [==============================] - 1s 112ms/step - loss: 0.2526 - accuracy: 0.9231\n",
            "Epoch 61/150\n",
            "12/12 [==============================] - 1s 111ms/step - loss: 0.2555 - accuracy: 0.9222\n",
            "Epoch 62/150\n",
            "12/12 [==============================] - 1s 111ms/step - loss: 0.2538 - accuracy: 0.9167\n",
            "Epoch 63/150\n",
            "12/12 [==============================] - 1s 112ms/step - loss: 0.2636 - accuracy: 0.9074\n",
            "Epoch 64/150\n",
            "12/12 [==============================] - 1s 111ms/step - loss: 0.2678 - accuracy: 0.9037\n",
            "Epoch 65/150\n",
            "12/12 [==============================] - 2s 147ms/step - loss: 0.2628 - accuracy: 0.9102\n",
            "Epoch 66/150\n",
            "12/12 [==============================] - 2s 188ms/step - loss: 0.2549 - accuracy: 0.9194\n",
            "Epoch 67/150\n",
            "12/12 [==============================] - 2s 195ms/step - loss: 0.2540 - accuracy: 0.9157\n",
            "Epoch 68/150\n",
            "12/12 [==============================] - 2s 124ms/step - loss: 0.2536 - accuracy: 0.9167\n",
            "Epoch 69/150\n",
            "12/12 [==============================] - 1s 111ms/step - loss: 0.2465 - accuracy: 0.9176\n",
            "Epoch 70/150\n",
            "12/12 [==============================] - 1s 111ms/step - loss: 0.2463 - accuracy: 0.9167\n",
            "Epoch 71/150\n",
            "12/12 [==============================] - 1s 111ms/step - loss: 0.2432 - accuracy: 0.9241\n",
            "Epoch 72/150\n",
            "12/12 [==============================] - 1s 114ms/step - loss: 0.2381 - accuracy: 0.9259\n",
            "Epoch 73/150\n",
            "12/12 [==============================] - 1s 112ms/step - loss: 0.2400 - accuracy: 0.9194\n",
            "Epoch 74/150\n",
            "12/12 [==============================] - 1s 112ms/step - loss: 0.2433 - accuracy: 0.9194\n",
            "Epoch 75/150\n",
            "12/12 [==============================] - 2s 136ms/step - loss: 0.2385 - accuracy: 0.9250\n",
            "Epoch 76/150\n",
            "12/12 [==============================] - 2s 205ms/step - loss: 0.2367 - accuracy: 0.9167\n",
            "Epoch 77/150\n",
            "12/12 [==============================] - 2s 197ms/step - loss: 0.2360 - accuracy: 0.9213\n",
            "Epoch 78/150\n",
            "12/12 [==============================] - 2s 128ms/step - loss: 0.2308 - accuracy: 0.9296\n",
            "Epoch 79/150\n",
            "12/12 [==============================] - 1s 110ms/step - loss: 0.2306 - accuracy: 0.9278\n",
            "Epoch 80/150\n",
            "12/12 [==============================] - 1s 113ms/step - loss: 0.2336 - accuracy: 0.9231\n",
            "Epoch 81/150\n",
            "12/12 [==============================] - 1s 110ms/step - loss: 0.2312 - accuracy: 0.9250\n",
            "Epoch 82/150\n",
            "12/12 [==============================] - 1s 112ms/step - loss: 0.2269 - accuracy: 0.9306\n",
            "Epoch 83/150\n",
            "12/12 [==============================] - 2s 179ms/step - loss: 0.2308 - accuracy: 0.9231\n",
            "Epoch 84/150\n",
            "12/12 [==============================] - 2s 194ms/step - loss: 0.2351 - accuracy: 0.9194\n",
            "Epoch 85/150\n",
            "12/12 [==============================] - 2s 207ms/step - loss: 0.2300 - accuracy: 0.9222\n",
            "Epoch 86/150\n",
            "12/12 [==============================] - 2s 202ms/step - loss: 0.2300 - accuracy: 0.9315\n",
            "Epoch 87/150\n",
            "12/12 [==============================] - 2s 188ms/step - loss: 0.2275 - accuracy: 0.9259\n",
            "Epoch 88/150\n",
            "12/12 [==============================] - 2s 126ms/step - loss: 0.2228 - accuracy: 0.9241\n",
            "Epoch 89/150\n",
            "12/12 [==============================] - 1s 112ms/step - loss: 0.2385 - accuracy: 0.9139\n",
            "Epoch 90/150\n",
            "12/12 [==============================] - 1s 112ms/step - loss: 0.2336 - accuracy: 0.9176\n",
            "Epoch 91/150\n",
            "12/12 [==============================] - 1s 111ms/step - loss: 0.2246 - accuracy: 0.9269\n",
            "Epoch 92/150\n",
            "12/12 [==============================] - 1s 113ms/step - loss: 0.2358 - accuracy: 0.9185\n",
            "Epoch 93/150\n",
            "12/12 [==============================] - 1s 110ms/step - loss: 0.2403 - accuracy: 0.9139\n",
            "Epoch 94/150\n",
            "12/12 [==============================] - 1s 113ms/step - loss: 0.2204 - accuracy: 0.9259\n",
            "Epoch 95/150\n",
            "12/12 [==============================] - 2s 135ms/step - loss: 0.2326 - accuracy: 0.9213\n",
            "Epoch 96/150\n",
            "12/12 [==============================] - 2s 191ms/step - loss: 0.2228 - accuracy: 0.9250\n",
            "Epoch 97/150\n",
            "12/12 [==============================] - 2s 193ms/step - loss: 0.2270 - accuracy: 0.9259\n",
            "Epoch 98/150\n",
            "12/12 [==============================] - 2s 132ms/step - loss: 0.2327 - accuracy: 0.9130\n",
            "Epoch 99/150\n",
            "12/12 [==============================] - 1s 111ms/step - loss: 0.2224 - accuracy: 0.9287\n",
            "Epoch 100/150\n",
            "12/12 [==============================] - 1s 110ms/step - loss: 0.2080 - accuracy: 0.9315\n",
            "Epoch 101/150\n",
            "12/12 [==============================] - 1s 113ms/step - loss: 0.2092 - accuracy: 0.9352\n",
            "Epoch 102/150\n",
            "12/12 [==============================] - 1s 111ms/step - loss: 0.2092 - accuracy: 0.9370\n",
            "Epoch 103/150\n",
            "12/12 [==============================] - 1s 113ms/step - loss: 0.2133 - accuracy: 0.9259\n",
            "Epoch 104/150\n",
            "12/12 [==============================] - 1s 113ms/step - loss: 0.2087 - accuracy: 0.9389\n",
            "Epoch 105/150\n",
            "12/12 [==============================] - 1s 125ms/step - loss: 0.2093 - accuracy: 0.9333\n",
            "Epoch 106/150\n",
            "12/12 [==============================] - 2s 191ms/step - loss: 0.2255 - accuracy: 0.9204\n",
            "Epoch 107/150\n",
            "12/12 [==============================] - 2s 195ms/step - loss: 0.2098 - accuracy: 0.9259\n",
            "Epoch 108/150\n",
            "12/12 [==============================] - 2s 144ms/step - loss: 0.2099 - accuracy: 0.9306\n",
            "Epoch 109/150\n",
            "12/12 [==============================] - 1s 111ms/step - loss: 0.2009 - accuracy: 0.9315\n",
            "Epoch 110/150\n",
            "12/12 [==============================] - 1s 114ms/step - loss: 0.2008 - accuracy: 0.9278\n",
            "Epoch 111/150\n",
            "12/12 [==============================] - 1s 119ms/step - loss: 0.2078 - accuracy: 0.9315\n",
            "Epoch 112/150\n",
            "12/12 [==============================] - 1s 117ms/step - loss: 0.2049 - accuracy: 0.9333\n",
            "Epoch 113/150\n",
            "12/12 [==============================] - 1s 111ms/step - loss: 0.2028 - accuracy: 0.9287\n",
            "Epoch 114/150\n",
            "12/12 [==============================] - 1s 112ms/step - loss: 0.2034 - accuracy: 0.9250\n",
            "Epoch 115/150\n",
            "12/12 [==============================] - 1s 121ms/step - loss: 0.2005 - accuracy: 0.9296\n",
            "Epoch 116/150\n",
            "12/12 [==============================] - 2s 189ms/step - loss: 0.2006 - accuracy: 0.9343\n",
            "Epoch 117/150\n",
            "12/12 [==============================] - 2s 192ms/step - loss: 0.2025 - accuracy: 0.9343\n",
            "Epoch 118/150\n",
            "12/12 [==============================] - 2s 150ms/step - loss: 0.2019 - accuracy: 0.9269\n",
            "Epoch 119/150\n",
            "12/12 [==============================] - 1s 111ms/step - loss: 0.1987 - accuracy: 0.9343\n",
            "Epoch 120/150\n",
            "12/12 [==============================] - 1s 111ms/step - loss: 0.1950 - accuracy: 0.9361\n",
            "Epoch 121/150\n",
            "12/12 [==============================] - 1s 113ms/step - loss: 0.2104 - accuracy: 0.9241\n",
            "Epoch 122/150\n",
            "12/12 [==============================] - 1s 112ms/step - loss: 0.2187 - accuracy: 0.9231\n",
            "Epoch 123/150\n",
            "12/12 [==============================] - 1s 112ms/step - loss: 0.2287 - accuracy: 0.9176\n",
            "Epoch 124/150\n",
            "12/12 [==============================] - 1s 112ms/step - loss: 0.2229 - accuracy: 0.9250\n",
            "Epoch 125/150\n",
            "12/12 [==============================] - 1s 117ms/step - loss: 0.1972 - accuracy: 0.9324\n",
            "Epoch 126/150\n",
            "12/12 [==============================] - 2s 192ms/step - loss: 0.1943 - accuracy: 0.9333\n",
            "Epoch 127/150\n",
            "12/12 [==============================] - 2s 191ms/step - loss: 0.1945 - accuracy: 0.9380\n",
            "Epoch 128/150\n",
            "12/12 [==============================] - 2s 155ms/step - loss: 0.1904 - accuracy: 0.9324\n",
            "Epoch 129/150\n",
            "12/12 [==============================] - 1s 111ms/step - loss: 0.1908 - accuracy: 0.9361\n",
            "Epoch 130/150\n",
            "12/12 [==============================] - 1s 111ms/step - loss: 0.1881 - accuracy: 0.9417\n",
            "Epoch 131/150\n",
            "12/12 [==============================] - 1s 113ms/step - loss: 0.1834 - accuracy: 0.9380\n",
            "Epoch 132/150\n",
            "12/12 [==============================] - 1s 111ms/step - loss: 0.1838 - accuracy: 0.9361\n",
            "Epoch 133/150\n",
            "12/12 [==============================] - 1s 110ms/step - loss: 0.1895 - accuracy: 0.9361\n",
            "Epoch 134/150\n",
            "12/12 [==============================] - 1s 113ms/step - loss: 0.1840 - accuracy: 0.9407\n",
            "Epoch 135/150\n",
            "12/12 [==============================] - 1s 112ms/step - loss: 0.1964 - accuracy: 0.9324\n",
            "Epoch 136/150\n",
            "12/12 [==============================] - 2s 189ms/step - loss: 0.1997 - accuracy: 0.9324\n",
            "Epoch 137/150\n",
            "12/12 [==============================] - 2s 186ms/step - loss: 0.1840 - accuracy: 0.9306\n",
            "Epoch 138/150\n",
            "12/12 [==============================] - 2s 169ms/step - loss: 0.1815 - accuracy: 0.9407\n",
            "Epoch 139/150\n",
            "12/12 [==============================] - 1s 112ms/step - loss: 0.1889 - accuracy: 0.9315\n",
            "Epoch 140/150\n",
            "12/12 [==============================] - 1s 111ms/step - loss: 0.1813 - accuracy: 0.9361\n",
            "Epoch 141/150\n",
            "12/12 [==============================] - 1s 112ms/step - loss: 0.1809 - accuracy: 0.9398\n",
            "Epoch 142/150\n",
            "12/12 [==============================] - 1s 112ms/step - loss: 0.1849 - accuracy: 0.9361\n",
            "Epoch 143/150\n",
            "12/12 [==============================] - 1s 111ms/step - loss: 0.1805 - accuracy: 0.9398\n",
            "Epoch 144/150\n",
            "12/12 [==============================] - 1s 111ms/step - loss: 0.1761 - accuracy: 0.9398\n",
            "Epoch 145/150\n",
            "12/12 [==============================] - 1s 112ms/step - loss: 0.1741 - accuracy: 0.9398\n",
            "Epoch 146/150\n",
            "12/12 [==============================] - 2s 173ms/step - loss: 0.1770 - accuracy: 0.9370\n",
            "Epoch 147/150\n",
            "12/12 [==============================] - 2s 189ms/step - loss: 0.1777 - accuracy: 0.9435\n",
            "Epoch 148/150\n",
            "12/12 [==============================] - 2s 190ms/step - loss: 0.1756 - accuracy: 0.9389\n",
            "Epoch 149/150\n",
            "12/12 [==============================] - 1s 118ms/step - loss: 0.1744 - accuracy: 0.9398\n",
            "Epoch 150/150\n",
            "12/12 [==============================] - 1s 115ms/step - loss: 0.1685 - accuracy: 0.9491\n"
          ]
        }
      ]
    },
    {
      "cell_type": "code",
      "source": [
        "conv_model.evaluate(x_test , y_test)"
      ],
      "metadata": {
        "colab": {
          "base_uri": "https://localhost:8080/"
        },
        "id": "wX49pFgeo065",
        "outputId": "5ddb83f4-4918-4e14-9938-e004832d1bad"
      },
      "execution_count": 29,
      "outputs": [
        {
          "output_type": "stream",
          "name": "stdout",
          "text": [
            "4/4 [==============================] - 0s 16ms/step - loss: 0.3561 - accuracy: 0.8583\n"
          ]
        },
        {
          "output_type": "execute_result",
          "data": {
            "text/plain": [
              "[0.3560729920864105, 0.8583333492279053]"
            ]
          },
          "metadata": {},
          "execution_count": 29
        }
      ]
    },
    {
      "cell_type": "code",
      "source": [
        "history.history"
      ],
      "metadata": {
        "colab": {
          "base_uri": "https://localhost:8080/"
        },
        "id": "AOqYiiReivVm",
        "outputId": "e4e0429b-7a08-4ba4-9cce-894e89a15aea"
      },
      "execution_count": 30,
      "outputs": [
        {
          "output_type": "execute_result",
          "data": {
            "text/plain": [
              "{'loss': [0.34573933482170105,\n",
              "  0.3526679575443268,\n",
              "  0.34567713737487793,\n",
              "  0.3511321246623993,\n",
              "  0.34390830993652344,\n",
              "  0.355825811624527,\n",
              "  0.34529241919517517,\n",
              "  0.34920963644981384,\n",
              "  0.34192270040512085,\n",
              "  0.3456881642341614,\n",
              "  0.3512393832206726,\n",
              "  0.34189796447753906,\n",
              "  0.3416447639465332,\n",
              "  0.33541542291641235,\n",
              "  0.32578045129776,\n",
              "  0.3217991590499878,\n",
              "  0.3207186460494995,\n",
              "  0.3196818232536316,\n",
              "  0.3202129006385803,\n",
              "  0.3161254823207855,\n",
              "  0.31458115577697754,\n",
              "  0.31420233845710754,\n",
              "  0.31535595655441284,\n",
              "  0.309545636177063,\n",
              "  0.30830883979797363,\n",
              "  0.30768340826034546,\n",
              "  0.31159430742263794,\n",
              "  0.3074808120727539,\n",
              "  0.3090164363384247,\n",
              "  0.3104877471923828,\n",
              "  0.30433300137519836,\n",
              "  0.3045250475406647,\n",
              "  0.299239844083786,\n",
              "  0.2932471036911011,\n",
              "  0.2943098843097687,\n",
              "  0.29262009263038635,\n",
              "  0.2871650159358978,\n",
              "  0.28511348366737366,\n",
              "  0.28763824701309204,\n",
              "  0.28807130455970764,\n",
              "  0.28841331601142883,\n",
              "  0.2794772982597351,\n",
              "  0.2972496747970581,\n",
              "  0.2830459475517273,\n",
              "  0.2797405421733856,\n",
              "  0.2773776054382324,\n",
              "  0.2819725573062897,\n",
              "  0.27932998538017273,\n",
              "  0.28200554847717285,\n",
              "  0.2722751796245575,\n",
              "  0.2715354561805725,\n",
              "  0.2734503746032715,\n",
              "  0.2663005292415619,\n",
              "  0.26108983159065247,\n",
              "  0.26024094223976135,\n",
              "  0.2616874873638153,\n",
              "  0.25933128595352173,\n",
              "  0.2598358988761902,\n",
              "  0.25948143005371094,\n",
              "  0.2525903582572937,\n",
              "  0.25551605224609375,\n",
              "  0.2538414001464844,\n",
              "  0.26362845301628113,\n",
              "  0.26783788204193115,\n",
              "  0.26278647780418396,\n",
              "  0.25492632389068604,\n",
              "  0.25399965047836304,\n",
              "  0.2536150813102722,\n",
              "  0.2464626431465149,\n",
              "  0.24626772105693817,\n",
              "  0.24323023855686188,\n",
              "  0.238063782453537,\n",
              "  0.2400454431772232,\n",
              "  0.24332500994205475,\n",
              "  0.2384648323059082,\n",
              "  0.2366776019334793,\n",
              "  0.23599086701869965,\n",
              "  0.23078961670398712,\n",
              "  0.23060272634029388,\n",
              "  0.23364287614822388,\n",
              "  0.23116819560527802,\n",
              "  0.22686852514743805,\n",
              "  0.23081868886947632,\n",
              "  0.2350745052099228,\n",
              "  0.23004308342933655,\n",
              "  0.2300034910440445,\n",
              "  0.22750481963157654,\n",
              "  0.22279295325279236,\n",
              "  0.23846305906772614,\n",
              "  0.23359355330467224,\n",
              "  0.22457024455070496,\n",
              "  0.23580528795719147,\n",
              "  0.24028003215789795,\n",
              "  0.2203603833913803,\n",
              "  0.23256917297840118,\n",
              "  0.2228112518787384,\n",
              "  0.22703783214092255,\n",
              "  0.23270286619663239,\n",
              "  0.22242720425128937,\n",
              "  0.20796485245227814,\n",
              "  0.20917640626430511,\n",
              "  0.2092134952545166,\n",
              "  0.21325594186782837,\n",
              "  0.20873193442821503,\n",
              "  0.2093135118484497,\n",
              "  0.2254650890827179,\n",
              "  0.20981676876544952,\n",
              "  0.20990298688411713,\n",
              "  0.20091071724891663,\n",
              "  0.20075541734695435,\n",
              "  0.20782798528671265,\n",
              "  0.20494025945663452,\n",
              "  0.20281167328357697,\n",
              "  0.20339219272136688,\n",
              "  0.20046143233776093,\n",
              "  0.2006216049194336,\n",
              "  0.20253576338291168,\n",
              "  0.20192012190818787,\n",
              "  0.1986655741930008,\n",
              "  0.1949714720249176,\n",
              "  0.21039439737796783,\n",
              "  0.2186509519815445,\n",
              "  0.22870594263076782,\n",
              "  0.2228604108095169,\n",
              "  0.19717977941036224,\n",
              "  0.1943189948797226,\n",
              "  0.19445455074310303,\n",
              "  0.1904071718454361,\n",
              "  0.19075877964496613,\n",
              "  0.1881142556667328,\n",
              "  0.18338441848754883,\n",
              "  0.18375974893569946,\n",
              "  0.18953338265419006,\n",
              "  0.1839611828327179,\n",
              "  0.1963796615600586,\n",
              "  0.19971634447574615,\n",
              "  0.18401090800762177,\n",
              "  0.1814996898174286,\n",
              "  0.1888706535100937,\n",
              "  0.18128055334091187,\n",
              "  0.1808949112892151,\n",
              "  0.1848912239074707,\n",
              "  0.18051716685295105,\n",
              "  0.17608579993247986,\n",
              "  0.174071803689003,\n",
              "  0.1769508719444275,\n",
              "  0.1777476817369461,\n",
              "  0.17561042308807373,\n",
              "  0.17435045540332794,\n",
              "  0.1685003638267517],\n",
              " 'accuracy': [0.8879629373550415,\n",
              "  0.8787037134170532,\n",
              "  0.8916666507720947,\n",
              "  0.8805555701255798,\n",
              "  0.8916666507720947,\n",
              "  0.8842592835426331,\n",
              "  0.8861111402511597,\n",
              "  0.885185182094574,\n",
              "  0.8870370388031006,\n",
              "  0.8833333253860474,\n",
              "  0.8879629373550415,\n",
              "  0.885185182094574,\n",
              "  0.8740741014480591,\n",
              "  0.8935185074806213,\n",
              "  0.894444465637207,\n",
              "  0.9037036895751953,\n",
              "  0.894444465637207,\n",
              "  0.8981481194496155,\n",
              "  0.8981481194496155,\n",
              "  0.8972222208976746,\n",
              "  0.9027777910232544,\n",
              "  0.8999999761581421,\n",
              "  0.8999999761581421,\n",
              "  0.9018518328666687,\n",
              "  0.9009259343147278,\n",
              "  0.894444465637207,\n",
              "  0.8972222208976746,\n",
              "  0.9009259343147278,\n",
              "  0.9027777910232544,\n",
              "  0.8962963223457336,\n",
              "  0.9055555462837219,\n",
              "  0.8962963223457336,\n",
              "  0.895370364189148,\n",
              "  0.9138888716697693,\n",
              "  0.9064815044403076,\n",
              "  0.9009259343147278,\n",
              "  0.9055555462837219,\n",
              "  0.9129629731178284,\n",
              "  0.9037036895751953,\n",
              "  0.9074074029922485,\n",
              "  0.8990740776062012,\n",
              "  0.9064815044403076,\n",
              "  0.9009259343147278,\n",
              "  0.9129629731178284,\n",
              "  0.9074074029922485,\n",
              "  0.9129629731178284,\n",
              "  0.9083333611488342,\n",
              "  0.9092592597007751,\n",
              "  0.8999999761581421,\n",
              "  0.8999999761581421,\n",
              "  0.9194444417953491,\n",
              "  0.9064815044403076,\n",
              "  0.9175925850868225,\n",
              "  0.9166666865348816,\n",
              "  0.9185185432434082,\n",
              "  0.9120370149612427,\n",
              "  0.9129629731178284,\n",
              "  0.9157407283782959,\n",
              "  0.914814829826355,\n",
              "  0.9231481552124023,\n",
              "  0.9222221970558167,\n",
              "  0.9166666865348816,\n",
              "  0.9074074029922485,\n",
              "  0.9037036895751953,\n",
              "  0.9101851582527161,\n",
              "  0.9194444417953491,\n",
              "  0.9157407283782959,\n",
              "  0.9166666865348816,\n",
              "  0.9175925850868225,\n",
              "  0.9166666865348816,\n",
              "  0.9240740537643433,\n",
              "  0.9259259104728699,\n",
              "  0.9194444417953491,\n",
              "  0.9194444417953491,\n",
              "  0.925000011920929,\n",
              "  0.9166666865348816,\n",
              "  0.9212962985038757,\n",
              "  0.9296296238899231,\n",
              "  0.9277777671813965,\n",
              "  0.9231481552124023,\n",
              "  0.925000011920929,\n",
              "  0.9305555820465088,\n",
              "  0.9231481552124023,\n",
              "  0.9194444417953491,\n",
              "  0.9222221970558167,\n",
              "  0.9314814805984497,\n",
              "  0.9259259104728699,\n",
              "  0.9240740537643433,\n",
              "  0.9138888716697693,\n",
              "  0.9175925850868225,\n",
              "  0.9268518686294556,\n",
              "  0.9185185432434082,\n",
              "  0.9138888716697693,\n",
              "  0.9259259104728699,\n",
              "  0.9212962985038757,\n",
              "  0.925000011920929,\n",
              "  0.9259259104728699,\n",
              "  0.9129629731178284,\n",
              "  0.9287037253379822,\n",
              "  0.9314814805984497,\n",
              "  0.9351851940155029,\n",
              "  0.9370370507240295,\n",
              "  0.9259259104728699,\n",
              "  0.9388889074325562,\n",
              "  0.9333333373069763,\n",
              "  0.9203703999519348,\n",
              "  0.9259259104728699,\n",
              "  0.9305555820465088,\n",
              "  0.9314814805984497,\n",
              "  0.9277777671813965,\n",
              "  0.9314814805984497,\n",
              "  0.9333333373069763,\n",
              "  0.9287037253379822,\n",
              "  0.925000011920929,\n",
              "  0.9296296238899231,\n",
              "  0.9342592358589172,\n",
              "  0.9342592358589172,\n",
              "  0.9268518686294556,\n",
              "  0.9342592358589172,\n",
              "  0.9361110925674438,\n",
              "  0.9240740537643433,\n",
              "  0.9231481552124023,\n",
              "  0.9175925850868225,\n",
              "  0.925000011920929,\n",
              "  0.9324073791503906,\n",
              "  0.9333333373069763,\n",
              "  0.9379629492759705,\n",
              "  0.9324073791503906,\n",
              "  0.9361110925674438,\n",
              "  0.9416666626930237,\n",
              "  0.9379629492759705,\n",
              "  0.9361110925674438,\n",
              "  0.9361110925674438,\n",
              "  0.9407407641410828,\n",
              "  0.9324073791503906,\n",
              "  0.9324073791503906,\n",
              "  0.9305555820465088,\n",
              "  0.9407407641410828,\n",
              "  0.9314814805984497,\n",
              "  0.9361110925674438,\n",
              "  0.9398148059844971,\n",
              "  0.9361110925674438,\n",
              "  0.9398148059844971,\n",
              "  0.9398148059844971,\n",
              "  0.9398148059844971,\n",
              "  0.9370370507240295,\n",
              "  0.9435185194015503,\n",
              "  0.9388889074325562,\n",
              "  0.9398148059844971,\n",
              "  0.9490740895271301]}"
            ]
          },
          "metadata": {},
          "execution_count": 30
        }
      ]
    },
    {
      "cell_type": "code",
      "source": [
        "import matplotlib.pyplot as plt\n",
        "\n",
        "# Assuming history is your History object returned by model.fit\n",
        "epochs = range(1, len(history.history['accuracy']) + 1)\n",
        "accuracy = history.history['accuracy']\n",
        "loss = history.history['loss']\n",
        "\n",
        "# Plotting accuracy\n",
        "plt.figure(figsize=(12, 6))\n",
        "plt.subplot(1, 2, 1)\n",
        "plt.plot(epochs, accuracy, 'bo-', label='Training Accuracy')\n",
        "plt.title('Training Accuracy vs. Epochs')\n",
        "plt.xlabel('Epochs')\n",
        "plt.ylabel('Accuracy')\n",
        "plt.legend()\n",
        "\n",
        "# Plotting loss\n",
        "plt.subplot(1, 2, 2)\n",
        "plt.plot(epochs, loss, 'ro-', label='Training Loss')\n",
        "plt.title('Training Loss vs. Epochs')\n",
        "plt.xlabel('Epochs')\n",
        "plt.ylabel('Loss')\n",
        "plt.legend()\n",
        "\n",
        "# Show plots\n",
        "plt.tight_layout()\n",
        "plt.show()\n"
      ],
      "metadata": {
        "colab": {
          "base_uri": "https://localhost:8080/",
          "height": 442
        },
        "id": "HIQyhPbziznQ",
        "outputId": "4a3bee71-f688-4060-b4af-7dbc37e14d40"
      },
      "execution_count": 23,
      "outputs": [
        {
          "output_type": "display_data",
          "data": {
            "text/plain": [
              "<Figure size 1200x600 with 2 Axes>"
            ],
            "image/png": "[encoded data removed]"
          },
          "metadata": {}
        }
      ]
    },
    {
      "cell_type": "markdown",
      "source": [
        "As from the two plots it can be seen that the accuracy (blue plot) increases with the increase in epoch and loss (red plot) decreases with an increase in epoch .\n",
        "It works successfully."
      ],
      "metadata": {
        "id": "xoWvOiA-joAY"
      }
    },
    {
      "cell_type": "code",
      "source": [
        "# Initialize counter\n",
        "correct_predictions = 0\n",
        "\n",
        "# Assuming x_train contains your dataset\n",
        "for index in range(len(x_test)):\n",
        "    image = x_train[index]\n",
        "    actual_class = y_test[index]  # Use index directly for the label\n",
        "\n",
        "    # Reshape the image to match the input shape expected by the model\n",
        "    image = np.reshape(image, (1, *image.shape))\n",
        "\n",
        "    # Make predictions\n",
        "    predictions = conv_model.predict(image)\n",
        "\n",
        "    # Get the predicted class\n",
        "    predicted_class = np.argmax(predictions)\n",
        "\n",
        "    # Get the index where the value is 1 in the actual_class array\n",
        "    actual_index = np.where(actual_class == 1)[0][0]\n",
        "\n",
        "    # Check if the predicted class is equal to the actual class\n",
        "    if predicted_class == actual_index:\n",
        "        correct_predictions += 1\n",
        "\n",
        "    # Display the image if needed\n",
        "\n",
        "# Print the total number of correct predictions\n",
        "print(f'Total correct predictions: {correct_predictions}')\n"
      ],
      "metadata": {
        "colab": {
          "base_uri": "https://localhost:8080/"
        },
        "id": "rVhHsavEyUnw",
        "outputId": "7ff5d5a4-f35b-486e-9cbd-1e4cf227eefc"
      },
      "execution_count": 79,
      "outputs": [
        {
          "output_type": "stream",
          "name": "stdout",
          "text": [
            "1/1 [==============================] - 0s 20ms/step\n",
            "1/1 [==============================] - 0s 19ms/step\n",
            "1/1 [==============================] - 0s 19ms/step\n",
            "1/1 [==============================] - 0s 20ms/step\n",
            "1/1 [==============================] - 0s 20ms/step\n",
            "1/1 [==============================] - 0s 20ms/step\n",
            "1/1 [==============================] - 0s 21ms/step\n",
            "1/1 [==============================] - 0s 20ms/step\n",
            "1/1 [==============================] - 0s 20ms/step\n",
            "1/1 [==============================] - 0s 20ms/step\n",
            "1/1 [==============================] - 0s 20ms/step\n",
            "1/1 [==============================] - 0s 25ms/step\n",
            "1/1 [==============================] - 0s 20ms/step\n",
            "1/1 [==============================] - 0s 21ms/step\n",
            "1/1 [==============================] - 0s 22ms/step\n",
            "1/1 [==============================] - 0s 21ms/step\n",
            "1/1 [==============================] - 0s 19ms/step\n",
            "1/1 [==============================] - 0s 21ms/step\n",
            "1/1 [==============================] - 0s 19ms/step\n",
            "1/1 [==============================] - 0s 19ms/step\n",
            "1/1 [==============================] - 0s 18ms/step\n",
            "1/1 [==============================] - 0s 21ms/step\n",
            "1/1 [==============================] - 0s 18ms/step\n",
            "1/1 [==============================] - 0s 18ms/step\n",
            "1/1 [==============================] - 0s 20ms/step\n",
            "1/1 [==============================] - 0s 21ms/step\n",
            "1/1 [==============================] - 0s 19ms/step\n",
            "1/1 [==============================] - 0s 20ms/step\n",
            "1/1 [==============================] - 0s 20ms/step\n",
            "1/1 [==============================] - 0s 20ms/step\n",
            "1/1 [==============================] - 0s 18ms/step\n",
            "1/1 [==============================] - 0s 22ms/step\n",
            "1/1 [==============================] - 0s 19ms/step\n",
            "1/1 [==============================] - 0s 19ms/step\n",
            "1/1 [==============================] - 0s 18ms/step\n",
            "1/1 [==============================] - 0s 23ms/step\n",
            "1/1 [==============================] - 0s 19ms/step\n",
            "1/1 [==============================] - 0s 20ms/step\n",
            "1/1 [==============================] - 0s 19ms/step\n",
            "1/1 [==============================] - 0s 21ms/step\n",
            "1/1 [==============================] - 0s 21ms/step\n",
            "1/1 [==============================] - 0s 19ms/step\n",
            "1/1 [==============================] - 0s 20ms/step\n",
            "1/1 [==============================] - 0s 19ms/step\n",
            "1/1 [==============================] - 0s 19ms/step\n",
            "1/1 [==============================] - 0s 19ms/step\n",
            "1/1 [==============================] - 0s 19ms/step\n",
            "1/1 [==============================] - 0s 23ms/step\n",
            "1/1 [==============================] - 0s 19ms/step\n",
            "1/1 [==============================] - 0s 19ms/step\n",
            "1/1 [==============================] - 0s 19ms/step\n",
            "1/1 [==============================] - 0s 24ms/step\n",
            "1/1 [==============================] - 0s 19ms/step\n",
            "1/1 [==============================] - 0s 19ms/step\n",
            "1/1 [==============================] - 0s 21ms/step\n",
            "1/1 [==============================] - 0s 21ms/step\n",
            "1/1 [==============================] - 0s 21ms/step\n",
            "1/1 [==============================] - 0s 22ms/step\n",
            "1/1 [==============================] - 0s 20ms/step\n",
            "1/1 [==============================] - 0s 22ms/step\n",
            "1/1 [==============================] - 0s 19ms/step\n",
            "1/1 [==============================] - 0s 19ms/step\n",
            "1/1 [==============================] - 0s 18ms/step\n",
            "1/1 [==============================] - 0s 19ms/step\n",
            "1/1 [==============================] - 0s 19ms/step\n",
            "1/1 [==============================] - 0s 20ms/step\n",
            "1/1 [==============================] - 0s 19ms/step\n",
            "1/1 [==============================] - 0s 18ms/step\n",
            "1/1 [==============================] - 0s 22ms/step\n",
            "1/1 [==============================] - 0s 21ms/step\n",
            "1/1 [==============================] - 0s 24ms/step\n",
            "1/1 [==============================] - 0s 20ms/step\n",
            "1/1 [==============================] - 0s 19ms/step\n",
            "1/1 [==============================] - 0s 19ms/step\n",
            "1/1 [==============================] - 0s 19ms/step\n",
            "1/1 [==============================] - 0s 19ms/step\n",
            "1/1 [==============================] - 0s 19ms/step\n",
            "1/1 [==============================] - 0s 19ms/step\n",
            "1/1 [==============================] - 0s 24ms/step\n",
            "1/1 [==============================] - 0s 19ms/step\n",
            "1/1 [==============================] - 0s 18ms/step\n",
            "1/1 [==============================] - 0s 19ms/step\n",
            "1/1 [==============================] - 0s 20ms/step\n",
            "1/1 [==============================] - 0s 19ms/step\n",
            "1/1 [==============================] - 0s 21ms/step\n",
            "1/1 [==============================] - 0s 19ms/step\n",
            "1/1 [==============================] - 0s 22ms/step\n",
            "1/1 [==============================] - 0s 19ms/step\n",
            "1/1 [==============================] - 0s 19ms/step\n",
            "1/1 [==============================] - 0s 20ms/step\n",
            "1/1 [==============================] - 0s 19ms/step\n",
            "1/1 [==============================] - 0s 20ms/step\n",
            "1/1 [==============================] - 0s 19ms/step\n",
            "1/1 [==============================] - 0s 22ms/step\n",
            "1/1 [==============================] - 0s 18ms/step\n",
            "1/1 [==============================] - 0s 19ms/step\n",
            "1/1 [==============================] - 0s 19ms/step\n",
            "1/1 [==============================] - 0s 19ms/step\n",
            "1/1 [==============================] - 0s 34ms/step\n",
            "1/1 [==============================] - 0s 28ms/step\n",
            "1/1 [==============================] - 0s 30ms/step\n",
            "1/1 [==============================] - 0s 27ms/step\n",
            "1/1 [==============================] - 0s 29ms/step\n",
            "1/1 [==============================] - 0s 29ms/step\n",
            "1/1 [==============================] - 0s 30ms/step\n",
            "1/1 [==============================] - 0s 32ms/step\n",
            "1/1 [==============================] - 0s 32ms/step\n",
            "1/1 [==============================] - 0s 27ms/step\n",
            "1/1 [==============================] - 0s 30ms/step\n",
            "1/1 [==============================] - 0s 29ms/step\n",
            "1/1 [==============================] - 0s 27ms/step\n",
            "1/1 [==============================] - 0s 27ms/step\n",
            "1/1 [==============================] - 0s 32ms/step\n",
            "1/1 [==============================] - 0s 32ms/step\n",
            "1/1 [==============================] - 0s 27ms/step\n",
            "1/1 [==============================] - 0s 28ms/step\n",
            "1/1 [==============================] - 0s 27ms/step\n",
            "1/1 [==============================] - 0s 31ms/step\n",
            "1/1 [==============================] - 0s 29ms/step\n",
            "1/1 [==============================] - 0s 38ms/step\n",
            "Total correct predictions: 22\n"
          ]
        }
      ]
    }
  ]
}